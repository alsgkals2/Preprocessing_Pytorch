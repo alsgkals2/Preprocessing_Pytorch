{
 "cells": [
  {
   "cell_type": "markdown",
   "metadata": {},
   "source": [
    "__<font size =\"5\">dividing and moving datas(train->val, train->test etc)__"
   ]
  },
  {
   "cell_type": "code",
   "execution_count": 103,
   "metadata": {},
   "outputs": [],
   "source": [
    "from random import shuffle\n",
    "from os import listdir, rename, remove\n",
    "from os.path import isfile, join, exists\n",
    "from copy import deepcopy\n",
    "import shutil\n",
    "\n",
    "def check_overlab_string(str):\n",
    "    list_name = ['DeepFake', 'Face2Face', 'FaceSwap', 'NeuralTextures']\n",
    "    for nm in list_name:\n",
    "        if str.count(nm)>=2 : return True\n",
    "    return False\n",
    "\n",
    "def check_num(src_dir,dest_dir):\n",
    "    print(\"src_dir's num\",len(listdir(src_dir)))\n",
    "    print(\"dest_dir's num\",len(listdir(dest_dir)))\n",
    "    \n",
    "def all_text_files_in_dir(mypath):\n",
    "        onlyfiles = [join(mypath, f) for f in listdir(mypath) if isfile(join(mypath, f)) and f.endswith(\".png\")]\n",
    "        return onlyfiles\n",
    "    \n",
    "def move_files_shuffle(src_dir,dest_dir,num_move=-1):\n",
    "    files = all_text_files_in_dir(src_dir)\n",
    "    shuffle(files)\n",
    "    print(\"dest_dir's num\",len(listdir(dest_dir)))\n",
    "    print(\"src_dir's num\",len(listdir(src_dir)))\n",
    "#     num_curr_files = len(listdir(dest_dir))\n",
    "    num_curr_files=0\n",
    "    for new_file in files:\n",
    "        print(\"d\")\n",
    "        if num_curr_files == num_move :break\n",
    "        try:\n",
    "            shutil.move(new_file,dest_dir)\n",
    "            num_curr_files+=1\n",
    "        except:pass\n",
    "    print(\"result------------\")\n",
    "    print(\"dest_dir's num\",len(listdir(dest_dir)))\n",
    "    print(\"src_dir's num\",len(listdir(src_dir)))\n",
    "        \n",
    "def copy_files_shuffle(src_dir,dest_dir,num_move=-1):\n",
    "    files = all_text_files_in_dir(src_dir)\n",
    "    shuffle(files)\n",
    "    print(\"dest_dir's num\",len(listdir(dest_dir)))\n",
    "    print(\"src_dir's num\",len(listdir(src_dir)))\n",
    "#     num_curr_files = len(listdir(dest_dir))\n",
    "    num_curr_files=0\n",
    "    if not exists(dest_dir):\n",
    "        os.mkdir(dest_dir)\n",
    "        print(dest_dir)\n",
    "    for new_file in files: \n",
    "        if num_curr_files == num_move :break\n",
    "        try:\n",
    "            shutil.copy(new_file,dest_dir)\n",
    "            num_curr_files+=1\n",
    "        except:\n",
    "            pass\n",
    "    print(\"result------------\")\n",
    "    print(\"dest_dir's num\",len(listdir(dest_dir)))\n",
    "    print(\"src_dir's num\",len(listdir(src_dir)))\n",
    "\n",
    "#파일 첫글자(first_title)가 동일한 모든 파일들을 dest_dir로 move\n",
    "#limited_file = dest_dir 내 제한 갯수\n",
    "def move_files_same_title(src_dir,dest_dir,first_title,split_char,limited_file=-1):\n",
    "    while(True): #temp\n",
    "        print(\"dest_dir's num\",len(listdir(dest_dir)))\n",
    "        print(\"src_dir's num\",len(listdir(src_dir)))\n",
    "        \n",
    "        files = listdir(src_dir)\n",
    "        if(len(listdir(dest_dir))>=limited_file and limited_file != -1):\n",
    "            print(\"limited\")\n",
    "            return\n",
    "        num_curr_files = len(listdir(dest_dir))\n",
    "        num_moved_files=0\n",
    "        import os\n",
    "        for new_file in files:\n",
    "            if(new_file.split(split_char)[0]==first_title):\n",
    "                _moved = os.path.join(src_dir,new_file)\n",
    "                num_moved_files+=1\n",
    "                shutil.move(_moved,dest_dir)\n",
    "            num_moved_files+= 1 if (new_file.split(split_char)[0]==first_title) else 0\n",
    "        print(\"moved file num = {}\".format(num_moved_files))\n",
    "#         if(num_moved_files==0 or limited_file == -1) : break\n",
    "        first_title = str(int(first_title) + 1)\n",
    "        \n",
    "    print(\"-------------------------------------------\")\n",
    "    print(\"Final dest_dir's num\",len(listdir(dest_dir)))\n",
    "    print(\"Final src_dir's num\",len(listdir(src_dir)))"
   ]
  },
  {
   "cell_type": "code",
   "execution_count": 106,
   "metadata": {},
   "outputs": [],
   "source": [
    "import os\n",
    "import torch\n",
    "import numpy as np\n",
    "import random\n",
    "os.environ[\"CUDA_VISIBLE_DEVICES\"] = '1'\n",
    "device = torch.device(f\"cuda\" if torch.cuda.is_available() else \"cpu\")\n",
    "##----------------\n",
    "def set_seeds(seed=42):\n",
    "    random.seed(seed)\n",
    "    os.environ['PYTHONHASHSEED'] = str(seed)\n",
    "    np.random.seed(seed)\n",
    "    torch.manual_seed(seed)\n",
    "    torch.cuda.manual_seed(seed)\n",
    "    torch.cuda.manual_seed_all(seed)\n",
    "    torch.backends.cudnn.deterministic = True\n",
    "    torch.backends.cudnn.benchmark = False # for faster training, but not deterministic\n",
    "\n",
    "set_seeds(seed=42)    \n"
   ]
  },
  {
   "cell_type": "code",
   "execution_count": 199,
   "metadata": {
    "tags": []
   },
   "outputs": [
    {
     "name": "stdout",
     "output_type": "stream",
     "text": [
      "['/media/data1/sha/CLRNet/TransferLearning/CelebDF/train/fake/Chris Evans/id4_id1_0003_0000167.png']\n",
      "len l_paths is 11200\n",
      "len l_paths//80 is 140\n",
      "['/media/data1/sha/CLRNet/TransferLearning/CelebDF/train/fake/Brad Pitt/id1_id9_0009_0000215.png']\n",
      "len l_paths is 12240\n",
      "len l_paths//80 is 153\n",
      "['/media/data1/sha/CLRNet/TransferLearning/CelebDF/train/fake/Amir Khan/id0_id4_0003_0000363.png']\n",
      "len l_paths is 9120\n",
      "len l_paths//80 is 114\n",
      "['/media/data1/sha/CLRNet/TransferLearning/CelebDF/train/fake/Angelina Jolie/id13_id7_0011_0000392.png']\n",
      "len l_paths is 1680\n",
      "len l_paths//80 is 21\n",
      "['/media/data1/sha/CLRNet/TransferLearning/CelebDF/train/fake/Cate Blanchett/id52_id58_0005_0000189.png']\n",
      "len l_paths is 5759\n",
      "len l_paths//80 is 72\n",
      "['/media/data1/sha/CLRNet/TransferLearning/CelebDF/train/fake/Chloe Grace Moretz/id55_id49_0000_0000289.png']\n",
      "len l_paths is 5037\n",
      "len l_paths//80 is 63\n",
      "['/media/data1/sha/CLRNet/TransferLearning/CelebDF/train/fake/Carrie-Anne Moss/id57_id53_0004_0000208.png']\n",
      "len l_paths is 5038\n",
      "len l_paths//80 is 63\n",
      "['/media/data1/sha/CLRNet/TransferLearning/CelebDF/train/fake/Ben Affleck/id27_id24_0001_0000088.png']\n",
      "len l_paths is 6160\n",
      "len l_paths//80 is 77\n",
      "['/media/data1/sha/CLRNet/TransferLearning/CelebDF/train/fake/Chris Hemsworth/id17_id3_0009_0000011.png']\n",
      "len l_paths is 11440\n",
      "len l_paths//80 is 143\n",
      "['/media/data1/sha/CLRNet/TransferLearning/CelebDF/train/fake/Cameron Diaz/id44_id45_0001_0000056.png']\n",
      "len l_paths is 3583\n",
      "len l_paths//80 is 45\n"
     ]
    }
   ],
   "source": [
    "import os\n",
    "import glob\n",
    "l_fakelreal = glob.glob('/media/data1/sha/CLRNet/TransferLearning/CelebDF/train/*')\n",
    "l_actors = glob.glob(os.path.join(l_fakelreal[1],'*')) #얘는 고정\n",
    "for t in l_actors:\n",
    "    actor = t.split('/')[-1]\n",
    "    _name_folder=os.path.join('/media/data1/sha/CLRNet/TransferLearning/CelebDF_custum/train/fake',actor)\n",
    "    if not exists(_name_folder):\n",
    "        print(f'made as {_name_folder}')\n",
    "        os.mkdir(_name_folder)\n",
    "for act in l_actors:\n",
    "    l_paths = glob.glob(os.path.join(act,'*'))\n",
    "    title=[]\n",
    "    print(glob.glob(l_paths[0]))\n",
    "    len_paths = len(l_paths)\n",
    "    print(f'len l_paths is {len(l_paths)}')\n",
    "    n_interver = round(len(l_paths)/80)\n",
    "    print(f'len l_paths//80 is {n_interver}')\n",
    "#     print(l_paths)\n",
    "    l_paths.sort()\n",
    "    for i in range(0,len(l_paths),n_interver):\n",
    "        title.append(l_paths[i])\n",
    "\n",
    "    for t in title:\n",
    "        actor = t.split('/')[-2]\n",
    "        _name_folder=os.path.join('/media/data1/sha/CLRNet/TransferLearning/CelebDF_custum/train/fake',actor)\n",
    "        shutil.copy(t,_name_folder)\n",
    "        "
   ]
  },
  {
   "cell_type": "code",
   "execution_count": 207,
   "metadata": {},
   "outputs": [
    {
     "data": {
      "text/plain": [
       "['/media/data1/sha/CLRNet/TransferLearning/CelebDF/train/fake/Chris Evans',\n",
       " '/media/data1/sha/CLRNet/TransferLearning/CelebDF/train/fake/Brad Pitt',\n",
       " '/media/data1/sha/CLRNet/TransferLearning/CelebDF/train/fake/Amir Khan',\n",
       " '/media/data1/sha/CLRNet/TransferLearning/CelebDF/train/fake/Angelina Jolie',\n",
       " '/media/data1/sha/CLRNet/TransferLearning/CelebDF/train/fake/Cate Blanchett',\n",
       " '/media/data1/sha/CLRNet/TransferLearning/CelebDF/train/fake/Chloe Grace Moretz',\n",
       " '/media/data1/sha/CLRNet/TransferLearning/CelebDF/train/fake/Carrie-Anne Moss',\n",
       " '/media/data1/sha/CLRNet/TransferLearning/CelebDF/train/fake/Ben Affleck',\n",
       " '/media/data1/sha/CLRNet/TransferLearning/CelebDF/train/fake/Chris Hemsworth',\n",
       " '/media/data1/sha/CLRNet/TransferLearning/CelebDF/train/fake/Cameron Diaz']"
      ]
     },
     "execution_count": 207,
     "metadata": {},
     "output_type": "execute_result"
    }
   ],
   "source": [
    "l_actors"
   ]
  },
  {
   "cell_type": "code",
   "execution_count": null,
   "metadata": {},
   "outputs": [],
   "source": []
  },
  {
   "cell_type": "markdown",
   "metadata": {},
   "source": [
    "# Walk Function Example"
   ]
  },
  {
   "cell_type": "code",
   "execution_count": 9,
   "metadata": {},
   "outputs": [
    {
     "name": "stdout",
     "output_type": "stream",
     "text": [
      "/home/mhkim/CoReD/current_train_with_shadata/Face2Face_NeuralTextures/GENERAL_NOBRIGHT\n",
      "['Face2Face_NeuralTextures_sha_LQHQ_littleaug_GENERAL_NOBRIGHT_nobright.txt', 'GENERAL_NOBRIGHT_epoch_.pth.tar']\n",
      "-------------------------\n",
      "/home/mhkim/CoReD/current_train_with_shadata/Face2Face_NeuralTextures/FReTAL_NOBRIGHT/.ipynb_checkpoints\n",
      "['DeepFake_Face2Face_sha_LQHQ_littleaug_FReTAL_NOBRIGHT_nobright-checkpoint.txt']\n",
      "-------------------------\n",
      "/home/mhkim/CoReD/current_train_with_shadata/Face2Face_NeuralTextures/KD_HQ\n",
      "['KD_HQ_epoch_.pth.tar', 'Face2Face_NeuralTextures_sha_LQHQ_littleaug_KD_HQ.txt']\n",
      "-------------------------\n",
      "/home/mhkim/CoReD/current_train_with_shadata/Face2Face_NeuralTextures/TGD_HQ_BRIGHT\n",
      "['Face2Face_NeuralTextures_sha_LQHQ_littleaug_TGD_HQ_nobright.txt', 'TGD_HQ_epoch_.pth.tar']\n",
      "-------------------------\n",
      "/home/mhkim/CoReD/current_train_with_shadata/Face2Face_NeuralTextures/GENERAL_HQ\n",
      "['GENERAL_HQ_epoch_.pth.tar', 'Face2Face_NeuralTextures_sha_LQHQ_littleaug_GENERAL_HQ_nobright.txt']\n",
      "-------------------------\n",
      "/home/mhkim/CoReD/current_train_with_shadata/Face2Face_NeuralTextures/KD_NOBRIGHT\n",
      "['KD_NOBRIGHT_epoch_55.pth.tar', 'KD_NOBRIGHT_epoch_75.pth.tar', 'DeepFake_Face2Face_sha_LQHQ_littleaug_KD_NOBRIGHT.txt', 'KD_NOBRIGHT_epoch_.pth.tar', 'Face2Face_NeuralTextures_sha_LQHQ_littleaug_KD_NOBRIGHT.txt', 'KD_NOBRIGHT_epoch_65.pth.tar']\n",
      "-------------------------\n",
      "/home/mhkim/CoReD/current_train_with_shadata/Face2Face_NeuralTextures/FReTAL_HQ\n",
      "['Face2Face_NeuralTextures_sha_LQHQ_littleaug_FReTAL_HQ.txt', 'FReTAL_HQ_epoch_.pth.tar']\n",
      "-------------------------\n",
      "/home/mhkim/CoReD/current_train_with_shadata/Face2Face_NeuralTextures/TGD_HQ\n",
      "['Face2Face_NeuralTextures_sha_LQHQ_littleaug_TGD_HQ_nobright.txt', 'TGD_HQ_epoch_.pth.tar']\n",
      "-------------------------\n",
      "/home/mhkim/CoReD/current_train_with_shadata/Face2Face_NeuralTextures/TGD_NOBRIGHT\n",
      "['TGD_NOBRIGHT_epoch_75.pth.tar', 'TGD_NOBRIGHT_epoch_.pth.tar', 'Face2Face_NeuralTextures_sha_LQHQ_littleaug_TGD_NOBRIGHT_nobright.txt', 'TGD_NOBRIGHT_epoch_55.pth.tar', 'TGD_NOBRIGHT_epoch_65.pth.tar']\n",
      "-------------------------\n"
     ]
    }
   ],
   "source": [
    "import os\n",
    "\n",
    "temp = \"/home/mhkim/CoReD/current_train_with_shadata/Face2Face_NeuralTextures/\"\n",
    "for root, dirs, files in os.walk(temp): # root => 현재 탐색중인 path(string형) / dirs => root의 하위 폴더 리스트(list형) / files => root의 하위 파일 리스트(list형) / \n",
    "#     print(dirs)\n",
    "    if not dirs:\n",
    "        print(root)\n",
    "        print(files)\n",
    "        print('-------------------------')\n"
   ]
  },
  {
   "cell_type": "code",
   "execution_count": null,
   "metadata": {},
   "outputs": [],
   "source": []
  },
  {
   "cell_type": "code",
   "execution_count": 241,
   "metadata": {},
   "outputs": [
    {
     "data": {
      "text/plain": [
       "'fake'"
      ]
     },
     "execution_count": 241,
     "metadata": {},
     "output_type": "execute_result"
    }
   ],
   "source": [
    "l_fakelreal[1].split('/')[-1]"
   ]
  },
  {
   "cell_type": "markdown",
   "metadata": {},
   "source": [
    "## Validation dataset(custum) 반복문 이용해서 한꺼번에 구축"
   ]
  },
  {
   "cell_type": "code",
   "execution_count": 258,
   "metadata": {},
   "outputs": [
    {
     "name": "stdout",
     "output_type": "stream",
     "text": [
      "['/media/data1/sha/CLRNet/CelebDF/val/fake/Kate Winslet', '/media/data1/sha/CLRNet/CelebDF/val/fake/Gerard Butler', '/media/data1/sha/CLRNet/CelebDF/val/fake/Don Cheadle', '/media/data1/sha/CLRNet/CelebDF/val/fake/Natalie Portman', '/media/data1/sha/CLRNet/CelebDF/val/fake/Charlize Theron', '/media/data1/sha/CLRNet/CelebDF/val/fake/Ryan Reynolds', '/media/data1/sha/CLRNet/CelebDF/val/fake/Jason Statham', '/media/data1/sha/CLRNet/CelebDF/val/fake/John Travolta', '/media/data1/sha/CLRNet/CelebDF/val/fake/Will Ferrell']\n",
      "len l_paths is 5680\n",
      "len l_paths//800 is 7\n",
      "title num is 812\n",
      "len l_paths is 6960\n",
      "len l_paths//800 is 9\n",
      "title num is 774\n",
      "len l_paths is 1200\n",
      "len l_paths//800 is 2\n",
      "title num is 600\n",
      "len l_paths is 5680\n",
      "len l_paths//800 is 7\n",
      "title num is 812\n",
      "len l_paths is 6960\n",
      "len l_paths//800 is 9\n",
      "title num is 774\n",
      "len l_paths is 12560\n",
      "len l_paths//800 is 16\n",
      "title num is 785\n",
      "len l_paths is 6320\n",
      "len l_paths//800 is 8\n",
      "title num is 790\n",
      "len l_paths is 16400\n",
      "len l_paths//800 is 20\n",
      "title num is 820\n",
      "len l_paths is 10720\n",
      "len l_paths//800 is 13\n",
      "title num is 825\n"
     ]
    }
   ],
   "source": [
    "import math\n",
    "# for i_rf in range(len(l_fakelreal)):\n",
    "l_fakelreal = glob.glob('/media/data1/sha/CLRNet/CelebDF/val/*')\n",
    "i_rf = 1\n",
    "l_actors = glob.glob(os.path.join(l_fakelreal[i_rf],'*')) #얘는 고정 -----> 0 : real | 1 : fake\n",
    "print(l_actors)\n",
    "name_folder=[]\n",
    "for i in range(len(l_actors)):\n",
    "    act = l_actors[i]\n",
    "    actor = act.split('/')[-1]\n",
    "    _name_folder=os.path.join('/media/data1/sha/CLRNet/CelebDF_custum/val/'+l_fakelreal[i_rf].split('/')[-1],actor)\n",
    "    if not exists(_name_folder):\n",
    "        print(f'made as {_name_folder}')\n",
    "        os.mkdir(_name_folder)\n",
    "    name_folder.append(_name_folder)\n",
    "\n",
    "    l_paths = glob.glob(os.path.join(act,'*'))\n",
    "    len_paths = len(l_paths)\n",
    "    print(f'len l_paths is {len(l_paths)}')\n",
    "    n_interver = round(len(l_paths)/800)\n",
    "    print(f'len l_paths//800 is {n_interver}')\n",
    "\n",
    "    title=[] #interver path만 append\n",
    "    for i in range(0,len(l_paths),n_interver):\n",
    "        title.append(l_paths[i])\n",
    "    print(f'title num is {len(title)}')\n",
    "    title.sort()\n",
    "\n",
    "    for t in title:\n",
    "        actor = t.split('/')[-2]\n",
    "        _name_folder=os.path.join('/media/data1/sha/CLRNet/CelebDF_custum/val/'+l_fakelreal[i_rf].split('/')[-1],actor)\n",
    "#         shutil.copy(t,_name_folder)\n"
   ]
  },
  {
   "cell_type": "code",
   "execution_count": 253,
   "metadata": {},
   "outputs": [
    {
     "name": "stdout",
     "output_type": "stream",
     "text": [
      "6992\n"
     ]
    }
   ],
   "source": [
    "acts = glob.glob('/media/data1/sha/CLRNet/CelebDF_custum/val/fake/*')\n",
    "sum_f = 0\n",
    "for i in range(len(acts)):\n",
    "    files = glob.glob(acts[i]+'/*')\n",
    "    sum_f += (len(files))\n",
    "print(sum_f)"
   ]
  },
  {
   "cell_type": "code",
   "execution_count": 279,
   "metadata": {},
   "outputs": [
    {
     "name": "stdout",
     "output_type": "stream",
     "text": [
      "['/media/data1/sha/CLRNet/CelebDF/val/fake/Kate Winslet', '/media/data1/sha/CLRNet/CelebDF/val/fake/Gerard Butler', '/media/data1/sha/CLRNet/CelebDF/val/fake/Don Cheadle', '/media/data1/sha/CLRNet/CelebDF/val/fake/Natalie Portman', '/media/data1/sha/CLRNet/CelebDF/val/fake/Charlize Theron', '/media/data1/sha/CLRNet/CelebDF/val/fake/Ryan Reynolds', '/media/data1/sha/CLRNet/CelebDF/val/fake/Jason Statham', '/media/data1/sha/CLRNet/CelebDF/val/fake/John Travolta', '/media/data1/sha/CLRNet/CelebDF/val/fake/Will Ferrell']\n",
      "len l_paths is 12560\n",
      "len l_paths//1000 is 15\n",
      "title num is 838\n"
     ]
    }
   ],
   "source": [
    "l_fakelreal = glob.glob('/media/data1/sha/CLRNet/CelebDF/val/*')\n",
    "l_actors = glob.glob(os.path.join(l_fakelreal[1],'*')) #얘는 고정 -----> 0 : real | 1 : fake\n",
    "print(l_actors)\n",
    "name_folder=[]\n",
    "act = l_actors[-1]\n",
    "actor = act.split('/')[-1]\n",
    "_name_folder=os.path.join('/media/data1/sha/CLRNet/CelebDF_custum/val/fake',actor)\n",
    "if not exists(_name_folder):\n",
    "    print(f'made as {_name_folder}')\n",
    "    os.mkdir(_name_folder)\n",
    "name_folder.append(_name_folder)\n",
    "\n",
    "l_paths = glob.glob(os.path.join(act,'*'))\n",
    "# print(l_paths)\n",
    "\n",
    "len_paths = len(l_paths)\n",
    "print(f'len l_paths is {len(l_paths)}')\n",
    "n_interver = int(len(l_paths)/800)\n",
    "print(f'len l_paths//1000 is {n_interver}')\n",
    "\n",
    "title=[] #interver path만 append\n",
    "for i in range(0,len(l_paths),n_interver):\n",
    "    title.append(l_paths[i])\n",
    "print(f'title num is {len(title)}')\n",
    "# title.sort()\n",
    "random.shuffle(title)\n",
    "cnt_temp = 0\n",
    "for t in title:\n",
    "    if cnt_temp > 1 : break\n",
    "    cnt_temp += 1\n",
    "    actor = t.split('/')[-2]\n",
    "    _name_folder=os.path.join('/media/data1/sha/CLRNet/CelebDF_custum/val/fake',actor)\n",
    "    shutil.copy(t,_name_folder)\n"
   ]
  },
  {
   "cell_type": "markdown",
   "metadata": {},
   "source": [
    "## Quality 변경"
   ]
  },
  {
   "cell_type": "code",
   "execution_count": 311,
   "metadata": {},
   "outputs": [
    {
     "name": "stdout",
     "output_type": "stream",
     "text": [
      "['/media/data1/sha/CLRNet/CelebDF_custum/val/real/Kate Winslet', '/media/data1/sha/CLRNet/CelebDF_custum/val/real/Gerard Butler', '/media/data1/sha/CLRNet/CelebDF_custum/val/real/Don Cheadle', '/media/data1/sha/CLRNet/CelebDF_custum/val/real/Natalie Portman', '/media/data1/sha/CLRNet/CelebDF_custum/val/real/Charlize Theron', '/media/data1/sha/CLRNet/CelebDF_custum/val/real/Ryan Reynolds', '/media/data1/sha/CLRNet/CelebDF_custum/val/real/Jason Statham', '/media/data1/sha/CLRNet/CelebDF_custum/val/real/John Travolta', '/media/data1/sha/CLRNet/CelebDF_custum/val/real/Will Ferrell']\n"
     ]
    }
   ],
   "source": [
    "from PIL import Image\n",
    "img = Image.Image()\n",
    "from_name_files = glob.glob('/media/data1/sha/CLRNet/CelebDF_custum/val/real/*')\n",
    "print(from_name_files)\n"
   ]
  },
  {
   "cell_type": "code",
   "execution_count": 317,
   "metadata": {},
   "outputs": [
    {
     "name": "stdout",
     "output_type": "stream",
     "text": [
      "/media/data1/sha/CLRNet/CelebDF_custum/val/real/Kate Winslet\n",
      "DONE ! \n",
      "/media/data1/sha/CLRNet/CelebDF_custum/val/real/Gerard Butler\n",
      "DONE ! \n",
      "/media/data1/sha/CLRNet/CelebDF_custum/val/real/Don Cheadle\n",
      "DONE ! \n",
      "/media/data1/sha/CLRNet/CelebDF_custum/val/real/Natalie Portman\n",
      "DONE ! \n",
      "/media/data1/sha/CLRNet/CelebDF_custum/val/real/Charlize Theron\n",
      "DONE ! \n",
      "/media/data1/sha/CLRNet/CelebDF_custum/val/real/Ryan Reynolds\n",
      "DONE ! \n",
      "/media/data1/sha/CLRNet/CelebDF_custum/val/real/Jason Statham\n",
      "DONE ! \n",
      "/media/data1/sha/CLRNet/CelebDF_custum/val/real/John Travolta\n",
      "DONE ! \n",
      "/media/data1/sha/CLRNet/CelebDF_custum/val/real/Will Ferrell\n",
      "DONE ! \n"
     ]
    }
   ],
   "source": [
    "for n in from_name_files:\n",
    "    from_titles = glob.glob(n + '/*')\n",
    "    print(n)\n",
    "    for t in from_titles:\n",
    "#         print(t.split('/')[-1])\n",
    "        img = Image.open(t)\n",
    "        img.save((t.replace('CLRNet','CLRNet_jpg25/CLRNet')).replace('png', 'jpg'), format='JPEG', quality=25)\n",
    "    print('DONE ! ')\n"
   ]
  },
  {
   "cell_type": "code",
   "execution_count": 334,
   "metadata": {},
   "outputs": [
    {
     "name": "stdout",
     "output_type": "stream",
     "text": [
      "DONE ! \n",
      "DONE ! \n",
      "DONE ! \n",
      "DONE ! \n",
      "DONE ! \n",
      "DONE ! \n",
      "DONE ! \n",
      "DONE ! \n",
      "DONE ! \n",
      "DONE ! \n"
     ]
    }
   ],
   "source": [
    "l_fakelreal = glob.glob('/media/data1/sha/CLRNet/TransferLearning/CelebDF_custum/train/*')\n",
    "l_actors = glob.glob(os.path.join(l_fakelreal[1],'*')) #얘는 고정 -----> 0 : real | 1 : fake\\\n",
    "l_new_actors = []\n",
    "for _actor in l_actors:\n",
    "    paths = glob.glob(_actor+'/*')\n",
    "    for p in paths:\n",
    "        img = Image.open(p)\n",
    "        img.save(p.replace('CLRNet','CLRNet_jpg25/CLRNet').replace('png','jpg'),format='JPEG', quality=25)\n",
    "    print('DONE ! ')"
   ]
  },
  {
   "cell_type": "markdown",
   "metadata": {},
   "source": [
    "### 폴더가 없으면 자동으로 폴더 생성"
   ]
  },
  {
   "cell_type": "code",
   "execution_count": 315,
   "metadata": {},
   "outputs": [
    {
     "name": "stdout",
     "output_type": "stream",
     "text": [
      "/media/data1/sha/CLRNet_jpg25/CLRNet/CelebDF_custum/val/real/Kate Winslet\n",
      "/media/data1/sha/CLRNet_jpg25/CLRNet/CelebDF_custum/val/real/Gerard Butler\n",
      "/media/data1/sha/CLRNet_jpg25/CLRNet/CelebDF_custum/val/real/Don Cheadle\n",
      "/media/data1/sha/CLRNet_jpg25/CLRNet/CelebDF_custum/val/real/Natalie Portman\n",
      "/media/data1/sha/CLRNet_jpg25/CLRNet/CelebDF_custum/val/real/Charlize Theron\n",
      "/media/data1/sha/CLRNet_jpg25/CLRNet/CelebDF_custum/val/real/Ryan Reynolds\n",
      "/media/data1/sha/CLRNet_jpg25/CLRNet/CelebDF_custum/val/real/Jason Statham\n",
      "/media/data1/sha/CLRNet_jpg25/CLRNet/CelebDF_custum/val/real/John Travolta\n",
      "/media/data1/sha/CLRNet_jpg25/CLRNet/CelebDF_custum/val/real/Will Ferrell\n"
     ]
    }
   ],
   "source": [
    "l_fakelreal = glob.glob('/media/data1/sha/CLRNet/CelebDF/val/*')\n",
    "l_actors = glob.glob(os.path.join(l_fakelreal[0],'*')) #얘는 고정 -----> 0 : real | 1 : fake\n",
    "for _actor in l_actors:\n",
    "    new_path = _actor.replace('CLRNet','CLRNet_jpg25/CLRNet')\n",
    "    new_path = new_path.replace('CelebDF','CelebDF_custum')\n",
    "    print(new_path)\n",
    "    if not os.path.exists(new_path):\n",
    "        os.makedirs(new_path)"
   ]
  },
  {
   "cell_type": "code",
   "execution_count": 273,
   "metadata": {},
   "outputs": [
    {
     "ename": "FileNotFoundError",
     "evalue": "[Errno 2] No such file or directory: '/home/mhkim/ForensicImageData/neural/test/0'",
     "output_type": "error",
     "traceback": [
      "\u001b[0;31m---------------------------------------------------------------------------\u001b[0m",
      "\u001b[0;31mFileNotFoundError\u001b[0m                         Traceback (most recent call last)",
      "\u001b[0;32m<ipython-input-273-95bdb97c9b42>\u001b[0m in \u001b[0;36m<module>\u001b[0;34m\u001b[0m\n\u001b[0;32m----> 1\u001b[0;31m \u001b[0mmove_files_same_title\u001b[0m\u001b[0;34m(\u001b[0m\u001b[0;34m\"/home/mhkim/ForensicImageData/neural/train/0\"\u001b[0m\u001b[0;34m,\u001b[0m\u001b[0;34m'/home/mhkim/ForensicImageData/neural/test/0'\u001b[0m\u001b[0;34m,\u001b[0m\u001b[0;34m'500'\u001b[0m\u001b[0;34m,\u001b[0m\u001b[0;34m'_'\u001b[0m\u001b[0;34m,\u001b[0m\u001b[0;36m13000\u001b[0m\u001b[0;34m)\u001b[0m\u001b[0;34m\u001b[0m\u001b[0;34m\u001b[0m\u001b[0m\n\u001b[0m\u001b[1;32m      2\u001b[0m \u001b[0;31m# move_files_same_title(\"/home/mhkim/ForensicImageData/Face2Face/train/1\",'/home/mhkim/ForensicImageData/Face2Face/val/1','400','_')\u001b[0m\u001b[0;34m\u001b[0m\u001b[0;34m\u001b[0m\u001b[0;34m\u001b[0m\u001b[0m\n\u001b[1;32m      3\u001b[0m \u001b[0;31m# move_files_same_title(\"/home/mhkim/ForensicImageData/Face2Face/train/1\",'/home/mhkim/ForensicImageData/Face2Face/val/1','300','_')\u001b[0m\u001b[0;34m\u001b[0m\u001b[0;34m\u001b[0m\u001b[0;34m\u001b[0m\u001b[0m\n\u001b[1;32m      4\u001b[0m \u001b[0;31m# move_files_same_title(\"/home/mhkim/ForensicImageData/Face2Face/train/1\",'/home/mhkim/ForensicImageData/Face2Face/val/1','200','_')\u001b[0m\u001b[0;34m\u001b[0m\u001b[0;34m\u001b[0m\u001b[0;34m\u001b[0m\u001b[0m\n",
      "\u001b[0;32m<ipython-input-103-00d8c8978fa4>\u001b[0m in \u001b[0;36mmove_files_same_title\u001b[0;34m(src_dir, dest_dir, first_title, split_char, limited_file)\u001b[0m\n\u001b[1;32m     62\u001b[0m \u001b[0;32mdef\u001b[0m \u001b[0mmove_files_same_title\u001b[0m\u001b[0;34m(\u001b[0m\u001b[0msrc_dir\u001b[0m\u001b[0;34m,\u001b[0m\u001b[0mdest_dir\u001b[0m\u001b[0;34m,\u001b[0m\u001b[0mfirst_title\u001b[0m\u001b[0;34m,\u001b[0m\u001b[0msplit_char\u001b[0m\u001b[0;34m,\u001b[0m\u001b[0mlimited_file\u001b[0m\u001b[0;34m=\u001b[0m\u001b[0;34m-\u001b[0m\u001b[0;36m1\u001b[0m\u001b[0;34m)\u001b[0m\u001b[0;34m:\u001b[0m\u001b[0;34m\u001b[0m\u001b[0;34m\u001b[0m\u001b[0m\n\u001b[1;32m     63\u001b[0m     \u001b[0;32mwhile\u001b[0m\u001b[0;34m(\u001b[0m\u001b[0;32mTrue\u001b[0m\u001b[0;34m)\u001b[0m\u001b[0;34m:\u001b[0m \u001b[0;31m#temp\u001b[0m\u001b[0;34m\u001b[0m\u001b[0;34m\u001b[0m\u001b[0m\n\u001b[0;32m---> 64\u001b[0;31m         \u001b[0mprint\u001b[0m\u001b[0;34m(\u001b[0m\u001b[0;34m\"dest_dir's num\"\u001b[0m\u001b[0;34m,\u001b[0m\u001b[0mlen\u001b[0m\u001b[0;34m(\u001b[0m\u001b[0mlistdir\u001b[0m\u001b[0;34m(\u001b[0m\u001b[0mdest_dir\u001b[0m\u001b[0;34m)\u001b[0m\u001b[0;34m)\u001b[0m\u001b[0;34m)\u001b[0m\u001b[0;34m\u001b[0m\u001b[0;34m\u001b[0m\u001b[0m\n\u001b[0m\u001b[1;32m     65\u001b[0m         \u001b[0mprint\u001b[0m\u001b[0;34m(\u001b[0m\u001b[0;34m\"src_dir's num\"\u001b[0m\u001b[0;34m,\u001b[0m\u001b[0mlen\u001b[0m\u001b[0;34m(\u001b[0m\u001b[0mlistdir\u001b[0m\u001b[0;34m(\u001b[0m\u001b[0msrc_dir\u001b[0m\u001b[0;34m)\u001b[0m\u001b[0;34m)\u001b[0m\u001b[0;34m)\u001b[0m\u001b[0;34m\u001b[0m\u001b[0;34m\u001b[0m\u001b[0m\n\u001b[1;32m     66\u001b[0m \u001b[0;34m\u001b[0m\u001b[0m\n",
      "\u001b[0;31mFileNotFoundError\u001b[0m: [Errno 2] No such file or directory: '/home/mhkim/ForensicImageData/neural/test/0'"
     ]
    }
   ],
   "source": [
    "move_files_same_title(\"/home/mhkim/ForensicImageData/neural/train/0\",'/home/mhkim/ForensicImageData/neural/test/0','500','_',13000)\n",
    "# move_files_same_title(\"/home/mhkim/ForensicImageData/Face2Face/train/1\",'/home/mhkim/ForensicImageData/Face2Face/val/1','400','_')\n",
    "# move_files_same_title(\"/home/mhkim/ForensicImageData/Face2Face/train/1\",'/home/mhkim/ForensicImageData/Face2Face/val/1','300','_')\n",
    "# move_files_same_title(\"/home/mhkim/ForensicImageData/Face2Face/train/1\",'/home/mhkim/ForensicImageData/Face2Face/val/1','200','_')"
   ]
  },
  {
   "cell_type": "code",
   "execution_count": 39,
   "metadata": {},
   "outputs": [
    {
     "name": "stdout",
     "output_type": "stream",
     "text": [
      "src_dir's num 6000\n",
      "dest_dir's num 6000\n",
      "src_dir's num 6000\n",
      "dest_dir's num 6000\n",
      "src_dir's num 2000\n",
      "dest_dir's num 2000\n",
      "-----------------------\n"
     ]
    }
   ],
   "source": [
    "check_num('/home/mhkim/ForensicImageData/Deepfakes/faceswap_6000/0','/home/mhkim/ForensicImageData/Deepfakes/faceswap_6000/1')\n",
    "check_num('/home/mhkim/ForensicImageData/faceswap/deepfakes_6000/0','/home/mhkim/ForensicImageData/faceswap/deepfakes_6000/1')\n",
    "check_num('/home/mhkim/ForensicImageData/faceswap/face2face_2000_train/0','/home/mhkim/ForensicImageData/faceswap/face2face_2000_train/1')"
   ]
  },
  {
   "cell_type": "code",
   "execution_count": 8,
   "metadata": {},
   "outputs": [
    {
     "name": "stdout",
     "output_type": "stream",
     "text": [
      "dest_dir's num 0\n",
      "src_dir's num 20221\n",
      "result------------\n",
      "dest_dir's num 500\n",
      "src_dir's num 20221\n"
     ]
    }
   ],
   "source": [
    "copy_files_shuffle(\"/home/mhkim/ForensicImageData/faceswap/train/1\",'/home/mhkim/ForensicImageData/Deepfakes/faceswap_500/1',4000)"
   ]
  },
  {
   "cell_type": "markdown",
   "metadata": {},
   "source": [
    "__<font size =\"5\">only move datas__"
   ]
  },
  {
   "cell_type": "code",
   "execution_count": 39,
   "metadata": {},
   "outputs": [
    {
     "data": {
      "text/plain": [
       "'/home/mhkim/deepfake_detection/Face2Face/train_resi/1/1'"
      ]
     },
     "execution_count": 39,
     "metadata": {},
     "output_type": "execute_result"
    }
   ],
   "source": [
    "import shutil\n",
    "shutil.move(\"/home/mhkim/deepfake_detection/deepfakes/train/0\",\"/home/mhkim/deepfake_detection/deepfakes/train_resi/0\",10000)"
   ]
  },
  {
   "cell_type": "markdown",
   "metadata": {},
   "source": [
    "__<font size =\"5\">showing numpy & Show ACC,VAL Graph__"
   ]
  },
  {
   "cell_type": "code",
   "execution_count": 4,
   "metadata": {
    "tags": []
   },
   "outputs": [
    {
     "data": {
      "image/png": "[encoded data removed]",
      "text/plain": [
       "<Figure size 432x288 with 1 Axes>"
      ]
     },
     "metadata": {
      "needs_background": "light"
     },
     "output_type": "display_data"
    }
   ],
   "source": [
    "%matplotlib inline\n",
    "import matplotlib.pyplot as plt\n",
    "\n",
    "fig, loss_ax = plt.subplots()\n",
    "\n",
    "# acc_ax = loss_ax.twinx()\n",
    "loss_ax.plot(data1[0], 'b', label='train Acuracy')\n",
    "loss_ax.plot(data1[1], 'r', label='real train Acuracy')\n",
    "loss_ax.plot(data1[2], 'g', label='fake train Acuracy')\n",
    "loss_ax.set_xlabel('epoch')\n",
    "loss_ax.set_ylabel('accuracy')\n",
    "loss_ax.set_title('Train Accuracy')\n",
    "\n",
    "loss_ax.legend(loc='lower right')\n",
    "\n",
    "plt.show()"
   ]
  },
  {
   "cell_type": "code",
   "execution_count": 5,
   "metadata": {},
   "outputs": [
    {
     "data": {
      "image/png": "[encoded data removed]",
      "text/plain": [
       "<Figure size 432x288 with 1 Axes>"
      ]
     },
     "metadata": {
      "needs_background": "light"
     },
     "output_type": "display_data"
    }
   ],
   "source": [
    "%matplotlib inline\n",
    "import matplotlib.pyplot as plt\n",
    "\n",
    "fig, loss_ax = plt.subplots()\n",
    "\n",
    "# acc_ax = loss_ax.twinx()\n",
    "\n",
    "loss_ax.plot(data2[0][0], 'b', label='source val Acuracy')\n",
    "loss_ax.plot(data2[1][0], 'r', label='source real val Acuracy')\n",
    "loss_ax.plot(data2[2][0], 'g', label='source fake val Acuracy')\n",
    "loss_ax.set_xlabel('epoch')\n",
    "loss_ax.set_ylabel('accuracy')\n",
    "loss_ax.set_title('Source val Accuracy')\n",
    "loss_ax.legend(loc='upper right')\n",
    "plt.show()"
   ]
  },
  {
   "cell_type": "code",
   "execution_count": 6,
   "metadata": {},
   "outputs": [
    {
     "data": {
      "image/png": "[encoded data removed]",
      "text/plain": [
       "<Figure size 432x288 with 1 Axes>"
      ]
     },
     "metadata": {
      "needs_background": "light"
     },
     "output_type": "display_data"
    }
   ],
   "source": [
    "%matplotlib inline\n",
    "import matplotlib.pyplot as plt\n",
    "\n",
    "fig, loss_ax = plt.subplots()\n",
    "\n",
    "# acc_ax = loss_ax.twinx()\n",
    "\n",
    "loss_ax.plot(data2[0][1], 'b', label='target val Acuracy')\n",
    "loss_ax.plot(data2[1][1], 'r', label='target real val Acuracy')\n",
    "loss_ax.plot(data2[2][1], 'g', label='target fake val Acuracy')\n",
    "loss_ax.set_xlabel('epoch')\n",
    "loss_ax.set_ylabel('accuracy')\n",
    "loss_ax.set_title('Target Val Accuracy')\n",
    "loss_ax.legend(loc='lower right')\n",
    "plt.show()"
   ]
  },
  {
   "cell_type": "code",
   "execution_count": 31,
   "metadata": {},
   "outputs": [
    {
     "data": {
      "image/png": "[encoded data removed]",
      "text/plain": [
       "<Figure size 432x288 with 1 Axes>"
      ]
     },
     "metadata": {
      "needs_background": "light"
     },
     "output_type": "display_data"
    }
   ],
   "source": [
    "%matplotlib inline\n",
    "import matplotlib.pyplot as plt\n",
    "\n",
    "fig, loss_ax = plt.subplots()\n",
    "\n",
    "# acc_ax = loss_ax.twinx()\n",
    "\n",
    "loss_ax.plot(data1[3], 'b', label='train Loss')\n",
    "loss_ax.plot(data2[3][0], 'r', label='Source val Loss')\n",
    "loss_ax.plot(data2[3][1], 'g', label='target val Loss')\n",
    "\n",
    "loss_ax.set_xlabel('epoch')\n",
    "loss_ax.set_ylabel('loss')\n",
    "loss_ax.legend(loc='upper right')\n",
    "loss_ax.set_title('Train & Val Loss')\n",
    "plt.show()"
   ]
  },
  {
   "cell_type": "code",
   "execution_count": 32,
   "metadata": {},
   "outputs": [
    {
     "data": {
      "image/png": "[encoded data removed]",
      "text/plain": [
       "<Figure size 432x288 with 1 Axes>"
      ]
     },
     "metadata": {
      "needs_background": "light"
     },
     "output_type": "display_data"
    }
   ],
   "source": [
    "%matplotlib inline\n",
    "import matplotlib.pyplot as plt\n",
    "\n",
    "fig, loss_ax = plt.subplots()\n",
    "\n",
    "# acc_ax = loss_ax.twinx()\n",
    "\n",
    "loss_ax.plot(data1[0], 'b', label='train Acuracy')\n",
    "loss_ax.plot(data2[0][0], 'r', label='source val Acuracy')\n",
    "loss_ax.plot(data2[0][1], 'g', label='target val Acuracy')\n",
    "\n",
    "loss_ax.set_xlabel('epoch')\n",
    "loss_ax.set_ylabel('accuracy')\n",
    "loss_ax.set_title('Train & Val Accuracy')\n",
    "loss_ax.legend(loc='center right')\n",
    "plt.show()"
   ]
  },
  {
   "cell_type": "markdown",
   "metadata": {},
   "source": [
    "__<font size =\"5\">Checking same named file in checked_files__"
   ]
  },
  {
   "cell_type": "code",
   "execution_count": 72,
   "metadata": {},
   "outputs": [
    {
     "name": "stdout",
     "output_type": "stream",
     "text": [
      "91690\n"
     ]
    },
    {
     "ename": "KeyboardInterrupt",
     "evalue": "",
     "output_type": "error",
     "traceback": [
      "\u001b[0;31m---------------------------------------------------------------------------\u001b[0m",
      "\u001b[0;31mKeyboardInterrupt\u001b[0m                         Traceback (most recent call last)",
      "\u001b[0;32m<ipython-input-72-a690d6b9bb48>\u001b[0m in \u001b[0;36m<module>\u001b[0;34m\u001b[0m\n\u001b[1;32m      6\u001b[0m \u001b[0mcnt\u001b[0m\u001b[0;34m=\u001b[0m\u001b[0;36m0\u001b[0m\u001b[0;34m\u001b[0m\u001b[0;34m\u001b[0m\u001b[0m\n\u001b[1;32m      7\u001b[0m \u001b[0;32mfor\u001b[0m \u001b[0mf\u001b[0m \u001b[0;32min\u001b[0m \u001b[0mchecked_files\u001b[0m \u001b[0;34m:\u001b[0m\u001b[0;34m\u001b[0m\u001b[0;34m\u001b[0m\u001b[0m\n\u001b[0;32m----> 8\u001b[0;31m     \u001b[0;32mif\u001b[0m \u001b[0mf\u001b[0m \u001b[0;32min\u001b[0m \u001b[0msource_files\u001b[0m\u001b[0;34m:\u001b[0m\u001b[0;34m\u001b[0m\u001b[0;34m\u001b[0m\u001b[0m\n\u001b[0m\u001b[1;32m      9\u001b[0m         \u001b[0mcnt\u001b[0m\u001b[0;34m+=\u001b[0m\u001b[0;36m1\u001b[0m\u001b[0;34m\u001b[0m\u001b[0;34m\u001b[0m\u001b[0m\n\u001b[1;32m     10\u001b[0m \u001b[0;31m#         print(\"checked_file is in source_files\")\u001b[0m\u001b[0;34m\u001b[0m\u001b[0;34m\u001b[0m\u001b[0;34m\u001b[0m\u001b[0m\n",
      "\u001b[0;31mKeyboardInterrupt\u001b[0m: "
     ]
    }
   ],
   "source": [
    "from os import listdir, rename, remove\n",
    "checked_files = listdir(\"/media/data1/hsm/deepfake_detection/Face2Face/train/1/\")\n",
    "print(len(checked_files))\n",
    "source_files = listdir(\"/media/data1/hsm/deepfake_detection/FaceSwap/train/1/\")\n",
    "\n",
    "cnt=0\n",
    "for f in checked_files :\n",
    "    if f in source_files:\n",
    "        cnt+=1\n",
    "#         print(\"checked_file is in source_files\")"
   ]
  },
  {
   "cell_type": "code",
   "execution_count": 166,
   "metadata": {},
   "outputs": [
    {
     "name": "stdout",
     "output_type": "stream",
     "text": [
      "8982\n"
     ]
    }
   ],
   "source": [
    "print (cnt)"
   ]
  },
  {
   "cell_type": "code",
   "execution_count": null,
   "metadata": {},
   "outputs": [],
   "source": []
  }
 ],
 "metadata": {
  "kernelspec": {
   "display_name": "Python 3",
   "language": "python",
   "name": "python3"
  },
  "language_info": {
   "codemirror_mode": {
    "name": "ipython",
    "version": 3
   },
   "file_extension": ".py",
   "mimetype": "text/x-python",
   "name": "python",
   "nbconvert_exporter": "python",
   "pygments_lexer": "ipython3",
   "version": "3.8.5"
  },
  "widgets": {
   "application/vnd.jupyter.widget-state+json": {
    "state": {},
    "version_major": 2,
    "version_minor": 0
   }
  }
 },
 "nbformat": 4,
 "nbformat_minor": 4
}
