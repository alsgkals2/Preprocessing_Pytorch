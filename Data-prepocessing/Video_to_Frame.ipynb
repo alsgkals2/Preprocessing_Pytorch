{
 "cells": [
  {
   "cell_type": "code",
   "execution_count": 64,
   "id": "32416aa1-05e3-4229-ab8c-0090a4f0ea14",
   "metadata": {},
   "outputs": [],
   "source": [
    "import sys\n",
    "import os\n",
    "import cv2\n",
    "import glob"
   ]
  },
  {
   "cell_type": "markdown",
   "id": "5a241927-2eb5-4428-97ea-8003494d3369",
   "metadata": {},
   "source": [
    "## Chooe one of bottom both"
   ]
  },
  {
   "cell_type": "code",
   "execution_count": 158,
   "id": "cba0c1c9-7b33-4aaa-88b3-9201e781c3a8",
   "metadata": {},
   "outputs": [],
   "source": [
    "temp_list3 = set()\n",
    "for a,b,c in os.walk(path):\n",
    "    for _c in c:\n",
    "        if 'mp4' in _c and 'FACESWAP' in a:\n",
    "            temp_list3.add(a)\n",
    "#             temp_list.add(os.path.join(a,_c))\n",
    "            "
   ]
  },
  {
   "cell_type": "code",
   "execution_count": 162,
   "id": "ebec7b16-2170-418a-9484-3e0c18cd9fe5",
   "metadata": {},
   "outputs": [],
   "source": [
    "temp_list = list(temp_list)[:164]"
   ]
  },
  {
   "cell_type": "code",
   "execution_count": 209,
   "id": "c41c6099-611f-4858-b83e-bfa1bf22090e",
   "metadata": {},
   "outputs": [],
   "source": [
    "folder_1=set()\n",
    "for t in temp_list:\n",
    "    folder_1.add(os.path.dirname(t))"
   ]
  },
  {
   "cell_type": "code",
   "execution_count": 210,
   "id": "811fb435-d829-452f-ba4c-025f708a61c0",
   "metadata": {},
   "outputs": [],
   "source": [
    "folder_2=set()\n",
    "for t in temp_list2:\n",
    "    folder_2.add(os.path.dirname(t))"
   ]
  },
  {
   "cell_type": "code",
   "execution_count": 211,
   "id": "422349a1-126d-4789-8ffb-4413b945e6b6",
   "metadata": {},
   "outputs": [],
   "source": [
    "folder_3=set()\n",
    "for t in temp_list3:\n",
    "    folder_3.add(os.path.dirname(t))"
   ]
  },
  {
   "cell_type": "code",
   "execution_count": null,
   "id": "8fc81e37-f576-49cd-acad-15db9703aeed",
   "metadata": {},
   "outputs": [],
   "source": []
  },
  {
   "cell_type": "code",
   "execution_count": null,
   "id": "6e7f2a17-d90b-4d2c-aef4-8cbe077ded20",
   "metadata": {},
   "outputs": [],
   "source": []
  },
  {
   "cell_type": "code",
   "execution_count": 163,
   "id": "d0b87fdd-b8fd-45bd-ab71-0d61f4f1ee23",
   "metadata": {},
   "outputs": [],
   "source": [
    "temp_list2 = list(temp_list2)[:164]"
   ]
  },
  {
   "cell_type": "code",
   "execution_count": 164,
   "id": "49702704-fd51-4592-86ea-3009e097af30",
   "metadata": {},
   "outputs": [],
   "source": [
    "temp_list3 = list(temp_list3)[:163]"
   ]
  },
  {
   "cell_type": "code",
   "execution_count": 214,
   "id": "ff26c30c-2ca3-46a0-8b57-569157802ec6",
   "metadata": {},
   "outputs": [],
   "source": [
    "final_folder = list(folder_1)+list(folder_2)+list(folder_3)"
   ]
  },
  {
   "cell_type": "code",
   "execution_count": 177,
   "id": "929fad6b-9c22-4313-a8c0-83373aab51fc",
   "metadata": {},
   "outputs": [],
   "source": [
    "final_list = list(set(final_list))"
   ]
  },
  {
   "cell_type": "code",
   "execution_count": 65,
   "id": "bdcce30e-176d-40be-be7a-4c3aafbbcca2",
   "metadata": {},
   "outputs": [],
   "source": [
    "path = '/home/mhkim/temp/NEW_C'\n",
    "\n",
    "finallist_mp4 = []\n",
    "list_mp = glob.glob(os.path.join(path,'*'))"
   ]
  },
  {
   "cell_type": "code",
   "execution_count": 132,
   "id": "36dbaa88-a706-45d9-975f-9912999e8310",
   "metadata": {},
   "outputs": [
    {
     "data": {
      "text/plain": [
       "500"
      ]
     },
     "execution_count": 132,
     "metadata": {},
     "output_type": "execute_result"
    }
   ],
   "source": [
    "len(finallist_mp4)"
   ]
  },
  {
   "cell_type": "code",
   "execution_count": 65,
   "id": "3e786320-ca65-4190-86e6-21c86450e63f",
   "metadata": {},
   "outputs": [
    {
     "data": {
      "text/plain": [
       "500"
      ]
     },
     "execution_count": 65,
     "metadata": {},
     "output_type": "execute_result"
    }
   ],
   "source": [
    "for _mp in final_list:\n",
    "    for a,b,c in os.walk(_mp):\n",
    "        for _c in c:\n",
    "            if '.mp4' in _c :\n",
    "                finallist_mp4.append(os.path.join(a,_c))\n",
    "\n",
    "len(finallist_mp4)\n",
    "\n",
    "import random\n",
    "finallist_mp4 = random.choices(finallist_mp4,k=500)\n",
    "\n",
    "len(finallist_mp4)"
   ]
  },
  {
   "cell_type": "markdown",
   "id": "8201682e-413a-44e1-88a5-1f530e65eaf7",
   "metadata": {},
   "source": [
    "## Source code"
   ]
  },
  {
   "cell_type": "code",
   "execution_count": 189,
   "id": "49f500c2-08a0-443b-bced-dc457dc92bbb",
   "metadata": {},
   "outputs": [
    {
     "data": {
      "text/plain": [
       "'/home/mhkim/temp/NEW_C/FAKE_FSGAN_C/AFRICANAMERICAN/WOMEN/id04689/0YqK1ksKjLg/00005_id04374_SWltOOZmlWM.mp4'"
      ]
     },
     "execution_count": 189,
     "metadata": {},
     "output_type": "execute_result"
    }
   ],
   "source": [
    "final_mp4_list[0]"
   ]
  },
  {
   "cell_type": "code",
   "execution_count": 191,
   "id": "b241860b-7512-4c4d-a8d1-b86161b72f6e",
   "metadata": {
    "tags": []
   },
   "outputs": [],
   "source": [
    "final_mp4_list = []\n",
    "for n,item in enumerate(final_list):\n",
    "    _list = glob.glob(item+'/*')\n",
    "    [final_mp4_list.append(_list_item) for idx, _list_item in enumerate(_list) if idx < 3]\n",
    "#     final_mp4_list.append(os.path.join(item,))"
   ]
  },
  {
   "cell_type": "code",
   "execution_count": 194,
   "id": "1313d1c7-e129-4776-bb60-0869e122090e",
   "metadata": {},
   "outputs": [
    {
     "data": {
      "text/plain": [
       "'/home/mhkim/temp/NEW_C/FAKE_FSGAN_C/AFRICANAMERICAN/WOMEN/id04689/0YqK1ksKjLg/00005_id04374_SWltOOZmlWM.mp4'"
      ]
     },
     "execution_count": 194,
     "metadata": {},
     "output_type": "execute_result"
    }
   ],
   "source": [
    "final_mp4_list[0]"
   ]
  },
  {
   "cell_type": "code",
   "execution_count": 223,
   "id": "67a679c9-c00b-4308-b2ac-e5a00e796a28",
   "metadata": {},
   "outputs": [
    {
     "data": {
      "text/plain": [
       "'/home/mhkim/temp/NEW_C/FAKE_W2L_C/AFRICANAMERICAN/WOMEN/id04374'"
      ]
     },
     "execution_count": 223,
     "metadata": {},
     "output_type": "execute_result"
    }
   ],
   "source": [
    "final_folder[0]"
   ]
  },
  {
   "cell_type": "code",
   "execution_count": 226,
   "id": "993c7cf0-a905-4fc3-b01c-0b8d3df20c21",
   "metadata": {},
   "outputs": [
    {
     "name": "stdout",
     "output_type": "stream",
     "text": [
      "/home/mhkim/temp/NEW_C/FAKE_W2L_C/AFRICANAMERICAN/WOMEN/id04374/SWltOOZmlWM/00032_id02071_cHuDh9F87vA_wavtolip.mp4\n"
     ]
    }
   ],
   "source": [
    "for a,b,c in os.walk(final_folder[0]):\n",
    "    if c:\n",
    "        print(os.path.join(a,c[0]))\n",
    "        "
   ]
  },
  {
   "cell_type": "code",
   "execution_count": 216,
   "id": "91252b24-4e3a-4f50-b9c2-84059df0eb3c",
   "metadata": {},
   "outputs": [
    {
     "data": {
      "text/plain": [
       "'/home/mhkim/temp/frame/fake/FAKE_W2L_C/AFRICANAMERICAN/WOMEN/id04374'"
      ]
     },
     "execution_count": 216,
     "metadata": {},
     "output_type": "execute_result"
    }
   ],
   "source": [
    "final_folder[0].replace('NEW_C/', 'frame/fake/')"
   ]
  },
  {
   "cell_type": "code",
   "execution_count": 234,
   "id": "8cf71cc4-d400-489f-b6b7-d863f1243b93",
   "metadata": {
    "collapsed": true,
    "jupyter": {
     "outputs_hidden": true
    },
    "tags": []
   },
   "outputs": [
    {
     "name": "stdout",
     "output_type": "stream",
     "text": [
      "END\n",
      "END\n",
      "END\n",
      "END\n",
      "END\n",
      "END\n",
      "END\n",
      "END\n",
      "END\n",
      "END\n",
      "END\n",
      "END\n",
      "END\n",
      "END\n",
      "END\n",
      "END\n",
      "END\n",
      "END\n",
      "END\n",
      "END\n",
      "END\n",
      "END\n",
      "END\n",
      "END\n",
      "END\n",
      "END\n",
      "END\n",
      "END\n",
      "END\n",
      "END\n",
      "END\n",
      "END\n",
      "END\n",
      "END\n",
      "END\n",
      "END\n",
      "END\n",
      "END\n",
      "END\n",
      "END\n",
      "END\n",
      "END\n",
      "END\n",
      "END\n",
      "END\n",
      "END\n",
      "END\n",
      "END\n",
      "END\n",
      "END\n",
      "END\n",
      "END\n",
      "END\n",
      "END\n",
      "END\n",
      "END\n",
      "END\n",
      "END\n",
      "END\n",
      "END\n",
      "END\n",
      "END\n",
      "END\n",
      "END\n",
      "END\n",
      "END\n",
      "END\n",
      "END\n",
      "END\n",
      "END\n",
      "END\n",
      "END\n",
      "END\n",
      "END\n",
      "END\n",
      "END\n",
      "END\n",
      "END\n",
      "END\n",
      "END\n",
      "END\n",
      "END\n",
      "END\n",
      "END\n",
      "END\n",
      "END\n",
      "END\n",
      "END\n",
      "END\n",
      "END\n",
      "END\n",
      "END\n",
      "END\n",
      "END\n",
      "END\n",
      "END\n",
      "END\n",
      "END\n",
      "END\n",
      "END\n",
      "END\n",
      "END\n",
      "END\n",
      "END\n",
      "END\n",
      "END\n",
      "END\n",
      "END\n",
      "END\n",
      "END\n",
      "END\n",
      "END\n",
      "END\n",
      "END\n",
      "END\n",
      "END\n",
      "END\n",
      "END\n",
      "END\n",
      "END\n",
      "END\n",
      "END\n",
      "END\n",
      "END\n",
      "END\n",
      "END\n",
      "END\n",
      "END\n",
      "END\n",
      "END\n",
      "END\n",
      "END\n",
      "END\n",
      "END\n",
      "END\n",
      "END\n",
      "END\n",
      "END\n",
      "END\n",
      "END\n",
      "END\n",
      "END\n",
      "END\n",
      "END\n",
      "END\n",
      "END\n",
      "END\n",
      "END\n",
      "END\n",
      "END\n",
      "END\n",
      "END\n",
      "END\n",
      "END\n",
      "END\n",
      "END\n",
      "END\n",
      "END\n",
      "END\n",
      "END\n",
      "END\n",
      "END\n",
      "END\n",
      "END\n",
      "END\n",
      "END\n",
      "END\n",
      "END\n",
      "END\n",
      "END\n",
      "END\n",
      "END\n",
      "END\n",
      "END\n",
      "END\n",
      "END\n",
      "END\n",
      "END\n",
      "END\n",
      "END\n",
      "END\n",
      "END\n",
      "END\n",
      "END\n",
      "END\n",
      "END\n",
      "END\n",
      "END\n",
      "END\n",
      "END\n",
      "END\n",
      "END\n",
      "END\n",
      "END\n",
      "END\n",
      "END\n",
      "END\n",
      "END\n",
      "END\n",
      "END\n",
      "END\n",
      "END\n",
      "END\n",
      "END\n",
      "END\n",
      "END\n",
      "END\n",
      "END\n",
      "END\n",
      "END\n",
      "END\n",
      "END\n",
      "END\n",
      "END\n",
      "END\n",
      "END\n",
      "END\n",
      "END\n",
      "END\n",
      "END\n",
      "END\n",
      "END\n",
      "END\n",
      "END\n",
      "END\n",
      "END\n",
      "END\n",
      "END\n",
      "END\n",
      "END\n",
      "END\n",
      "END\n",
      "END\n",
      "END\n",
      "END\n",
      "END\n",
      "END\n",
      "END\n",
      "END\n",
      "END\n",
      "END\n",
      "END\n",
      "END\n",
      "END\n",
      "END\n",
      "END\n",
      "END\n",
      "END\n",
      "END\n",
      "END\n",
      "END\n",
      "END\n",
      "END\n",
      "END\n",
      "END\n",
      "END\n",
      "END\n",
      "END\n",
      "END\n",
      "END\n",
      "END\n",
      "END\n",
      "END\n",
      "END\n",
      "END\n",
      "END\n",
      "END\n",
      "END\n",
      "END\n",
      "END\n",
      "END\n",
      "END\n",
      "END\n",
      "END\n",
      "END\n",
      "END\n",
      "END\n",
      "END\n",
      "END\n",
      "END\n",
      "END\n",
      "END\n",
      "END\n",
      "END\n",
      "END\n",
      "END\n",
      "END\n",
      "END\n",
      "END\n",
      "END\n",
      "END\n",
      "END\n",
      "END\n",
      "END\n",
      "END\n",
      "END\n",
      "END\n",
      "END\n",
      "END\n",
      "END\n",
      "END\n",
      "END\n",
      "END\n",
      "END\n",
      "END\n",
      "END\n",
      "END\n",
      "END\n",
      "END\n",
      "END\n",
      "END\n",
      "END\n",
      "END\n",
      "END\n",
      "END\n",
      "END\n",
      "END\n",
      "END\n",
      "END\n",
      "END\n",
      "END\n",
      "END\n",
      "END\n",
      "END\n",
      "END\n",
      "END\n",
      "END\n",
      "END\n",
      "END\n",
      "END\n",
      "END\n",
      "END\n",
      "END\n",
      "END\n",
      "END\n",
      "END\n",
      "END\n",
      "END\n",
      "END\n",
      "END\n",
      "END\n",
      "END\n",
      "END\n",
      "END\n",
      "END\n",
      "END\n",
      "END\n",
      "END\n",
      "END\n",
      "END\n",
      "END\n",
      "END\n",
      "END\n",
      "END\n",
      "END\n",
      "END\n",
      "END\n",
      "END\n",
      "END\n",
      "END\n",
      "END\n",
      "END\n",
      "END\n",
      "END\n",
      "END\n",
      "END\n",
      "END\n",
      "END\n",
      "END\n",
      "END\n",
      "END\n",
      "END\n",
      "END\n",
      "END\n",
      "END\n",
      "END\n",
      "END\n",
      "END\n",
      "END\n",
      "END\n",
      "END\n",
      "END\n",
      "END\n",
      "END\n",
      "END\n",
      "END\n",
      "END\n",
      "END\n",
      "END\n",
      "END\n",
      "END\n",
      "END\n",
      "END\n",
      "END\n",
      "END\n",
      "END\n",
      "END\n",
      "END\n",
      "END\n",
      "END\n",
      "END\n",
      "END\n",
      "END\n",
      "END\n",
      "END\n",
      "END\n",
      "END\n",
      "END\n",
      "END\n",
      "END\n",
      "END\n",
      "END\n",
      "END\n",
      "END\n",
      "END\n",
      "END\n",
      "END\n",
      "END\n",
      "END\n",
      "END\n",
      "END\n",
      "END\n",
      "END\n",
      "END\n",
      "END\n",
      "END\n",
      "END\n",
      "END\n",
      "END\n",
      "END\n",
      "END\n",
      "END\n",
      "END\n",
      "END\n",
      "END\n",
      "END\n",
      "END\n",
      "END\n",
      "END\n",
      "END\n",
      "END\n",
      "END\n",
      "END\n",
      "END\n",
      "END\n",
      "END\n",
      "END\n",
      "END\n",
      "END\n",
      "END\n",
      "END\n",
      "END\n",
      "END\n",
      "END\n",
      "END\n",
      "END\n",
      "END\n",
      "END\n",
      "END\n",
      "END\n",
      "END\n",
      "END\n",
      "END\n",
      "END\n",
      "END\n",
      "END\n",
      "END\n",
      "END\n",
      "END\n",
      "END\n",
      "END\n",
      "END\n",
      "END\n",
      "END\n",
      "END\n",
      "END\n",
      "END\n",
      "END\n",
      "END\n",
      "END\n",
      "END\n",
      "END\n",
      "END\n",
      "END\n",
      "END\n",
      "END\n",
      "END\n",
      "END\n",
      "END\n",
      "END\n",
      "END\n"
     ]
    }
   ],
   "source": [
    "swit = True\n",
    "save_path = '/home/mhkim/temp/frame/fake'\n",
    "for _mp in final_folder:\n",
    "    for a,b,c in os.walk(_mp):\n",
    "        if c:\n",
    "            origin_path = os.path.join(a,c[0])\n",
    "            titles = origin_path.split('/')\n",
    "\n",
    "            _save_path = os.path.dirname(origin_path)\n",
    "            _save_path = _save_path.replace('NEW_C/', 'frame/fake/')\n",
    "            os.makedirs(_save_path, exist_ok=True)\n",
    "\n",
    "            vidcap = cv2.VideoCapture(origin_path)\n",
    "            ret = True\n",
    "            swit = False\n",
    "            count = 0\n",
    "            while(ret):\n",
    "                ret, image = vidcap.read() # 이미지 사이즈 960x540으로 변경\n",
    "                if not ret: break\n",
    "                if(int(vidcap.get(1)) % 15 == 0):\n",
    "                    name = titles[-1].split('.')[-2]\n",
    "                    cv2.imwrite(_save_path+f\"/{name}_{count}.png\", image) #print('Saved frame%d.jpg' % count)\n",
    "                    count += 1\n",
    "#             break\n",
    "#     if not swit : break\n",
    "\n",
    "    print(\"END\")\n",
    "    cv2.destroyAllWindows()"
   ]
  },
  {
   "cell_type": "code",
   "execution_count": null,
   "id": "15f5696b-7d39-4813-a4f1-4a42c6bc15e3",
   "metadata": {},
   "outputs": [],
   "source": []
  },
  {
   "cell_type": "code",
   "execution_count": 235,
   "id": "ccd632b1-f486-487c-abc3-6a78873803d6",
   "metadata": {},
   "outputs": [],
   "source": [
    "fake_png=[]\n",
    "for a,b,c in os.walk('/home/mhkim/temp/frame/fake'):\n",
    "    for _c in c:\n",
    "        if 'png' in _c:\n",
    "            fake_png.append(os.path.join(a,_c))"
   ]
  },
  {
   "cell_type": "code",
   "execution_count": 248,
   "id": "e02260b4-154d-40ce-896a-5f98fda9c7d3",
   "metadata": {},
   "outputs": [
    {
     "data": {
      "text/plain": [
       "3685"
      ]
     },
     "execution_count": 248,
     "metadata": {},
     "output_type": "execute_result"
    }
   ],
   "source": [
    "len(fake_png)"
   ]
  },
  {
   "cell_type": "code",
   "execution_count": 249,
   "id": "84ac1cc3-c5e0-4b3f-b15f-96ca11f314bb",
   "metadata": {},
   "outputs": [
    {
     "data": {
      "text/plain": [
       "3896"
      ]
     },
     "execution_count": 249,
     "metadata": {},
     "output_type": "execute_result"
    }
   ],
   "source": [
    "len(real_png)"
   ]
  },
  {
   "cell_type": "code",
   "execution_count": 118,
   "id": "0131dba3-897f-4e74-b16a-89aa9a6286fa",
   "metadata": {},
   "outputs": [],
   "source": [
    "random.shuffle(real_png)"
   ]
  },
  {
   "cell_type": "code",
   "execution_count": 242,
   "id": "3e828657-627e-4bf6-a0fc-b95b1d364e90",
   "metadata": {},
   "outputs": [],
   "source": [
    "ttt=[]\n",
    "for item in real_png :\n",
    "    ttt.append(item.split('_')[0])"
   ]
  },
  {
   "cell_type": "code",
   "execution_count": 121,
   "id": "10e09b29-133b-4491-aa05-5b6620b6fba6",
   "metadata": {},
   "outputs": [
    {
     "data": {
      "text/plain": [
       "'/home/mhkim/temp/frame/real/id00098_00004_id01225_WuzuZoM84Ws_id00555_4DWmIb1tFZQ_wavtolip/id00098_00004_id01225_WuzuZoM84Ws_id00555_4DWmIb1tFZQ_wavtolip_0.png'"
      ]
     },
     "execution_count": 121,
     "metadata": {},
     "output_type": "execute_result"
    }
   ],
   "source": [
    "temp[0].replace('/real','/real_fair')"
   ]
  },
  {
   "cell_type": "code",
   "execution_count": 122,
   "id": "e9112812-dc90-49e6-9e3f-0d1658f5d633",
   "metadata": {},
   "outputs": [],
   "source": [
    "os.makedirs('/home/mhkim/temp/frame/real_fair')"
   ]
  },
  {
   "cell_type": "code",
   "execution_count": 128,
   "id": "a311c5a1-fb1e-4457-9e21-db0a978a1efd",
   "metadata": {},
   "outputs": [],
   "source": [
    "for item in temp:\n",
    "    _item = item.replace('/real','/real_fair')\n",
    "    os.makedirs(_item[:_item.rfind('/')],exist_ok=True)\n",
    "    shutil.copy(item,_item)"
   ]
  },
  {
   "cell_type": "code",
   "execution_count": null,
   "id": "f9d564b6-4530-4835-9f53-67de58ad2c6c",
   "metadata": {},
   "outputs": [],
   "source": []
  },
  {
   "cell_type": "code",
   "execution_count": null,
   "id": "f5db6442-a4a3-485f-a952-00b0b596bc0a",
   "metadata": {},
   "outputs": [],
   "source": []
  },
  {
   "cell_type": "code",
   "execution_count": null,
   "id": "29fc315f-ddcf-4ca2-a7c4-10d6d6d2af08",
   "metadata": {},
   "outputs": [],
   "source": []
  },
  {
   "cell_type": "code",
   "execution_count": 197,
   "id": "1fa415c8-395f-44b7-a732-f991fda0ddc9",
   "metadata": {},
   "outputs": [],
   "source": [
    "temp=[]\n",
    "for a,b,c in os.walk(save_path):\n",
    "    for _c in c:\n",
    "        if 'png' in _c:\n",
    "            temp.append(os.path.join(a,_c))"
   ]
  },
  {
   "cell_type": "code",
   "execution_count": null,
   "id": "872e55d5-54e7-4e9b-87b2-3faedce4324d",
   "metadata": {},
   "outputs": [],
   "source": []
  },
  {
   "cell_type": "code",
   "execution_count": 199,
   "id": "a8484edf-c87b-4cfc-8c66-db332e3708d5",
   "metadata": {},
   "outputs": [
    {
     "data": {
      "text/plain": [
       "7894"
      ]
     },
     "execution_count": 199,
     "metadata": {},
     "output_type": "execute_result"
    }
   ],
   "source": [
    "shuf(temp)"
   ]
  },
  {
   "cell_type": "code",
   "execution_count": null,
   "id": "b71b1c93-40a8-4bee-9a02-f796eb62eda7",
   "metadata": {},
   "outputs": [],
   "source": []
  }
 ],
 "metadata": {
  "kernelspec": {
   "display_name": "Python 3",
   "language": "python",
   "name": "python3"
  },
  "language_info": {
   "codemirror_mode": {
    "name": "ipython",
    "version": 3
   },
   "file_extension": ".py",
   "mimetype": "text/x-python",
   "name": "python",
   "nbconvert_exporter": "python",
   "pygments_lexer": "ipython3",
   "version": "3.8.5"
  },
  "widgets": {
   "application/vnd.jupyter.widget-state+json": {
    "state": {},
    "version_major": 2,
    "version_minor": 0
   }
  }
 },
 "nbformat": 4,
 "nbformat_minor": 5
}
