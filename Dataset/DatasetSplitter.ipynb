{
 "cells": [
  {
   "cell_type": "code",
   "execution_count": null,
   "metadata": {},
   "outputs": [],
   "source": [
    "def dataset_splitter(DATASET, SPLIT_VALUE, VALIDATION_SIZE, BATCH_SIZE, specific_alpha=False):\n",
    "    dataset_len = len(DATASET) - VALIDATION_SIZE\n",
    "    validation_set, non_alpha_set, alphaset_set = torch.utils.data.random_split(DATASET, [VALIDATION_SIZE,\n",
    "                                                                                          dataset_len - SPLIT_VALUE,\n",
    "                                                                                          SPLIT_VALUE])\n",
    "    NON_ALPHA_DATALOADER = torch.utils.data.DataLoader(non_alpha_set, batch_size=BATCH_SIZE, shuffle=True)"
   ]
  },
  {
   "cell_type": "code",
   "execution_count": null,
   "metadata": {},
   "outputs": [],
   "source": [
    "non_alpha_dataloader, alpha_dataloader, validation_dataloader, neut_dataloader = dataset_splitter(OBJECT_DATASET,\n",
    "                                                                                                  SPLIT_VALUE,\n",
    "                                                                                                  VALIDATION_SIZE,\n",
    "                                                                                                  batch_size,\n",
    "                                                                                                  specific_alpha)"
   ]
  }
 ],
 "metadata": {
  "kernelspec": {
   "display_name": "Python 3",
   "language": "python",
   "name": "python3"
  },
  "language_info": {
   "codemirror_mode": {
    "name": "ipython",
    "version": 3
   },
   "file_extension": ".py",
   "mimetype": "text/x-python",
   "name": "python",
   "nbconvert_exporter": "python",
   "pygments_lexer": "ipython3",
   "version": "3.8.3"
  }
 },
 "nbformat": 4,
 "nbformat_minor": 4
}
