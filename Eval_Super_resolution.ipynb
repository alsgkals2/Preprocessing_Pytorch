{
 "cells": [
  {
   "cell_type": "code",
   "execution_count": null,
   "id": "aaeed9b9-0d4c-4a71-8dfb-10f1299cc5de",
   "metadata": {},
   "outputs": [],
   "source": [
    "def predict(model, img_paths, stride=32, batch_size=128, img_size=256): #img_paths => GT\n",
    "    results = []\n",
    "    for img_path in img_paths:\n",
    "        img = cv2.imread(img_path)\n",
    "        img = img.astype(np.float32)/255\n",
    "        crop = []\n",
    "        position = []\n",
    "        batch_count = 0\n",
    "        img = img.transpose(2,0,1)\n",
    "        print(img.shape)\n",
    "        result_img = np.zeros_like(img)\n",
    "        voting_mask = np.zeros_like(img)\n",
    "        model.eval()\n",
    "        with torch.no_grad():\n",
    "            for top in tqdm.tqdm(range(0, img.shape[1], stride)): \n",
    "                for left in range(0, img.shape[2], stride):\n",
    "                    piece = np.zeros([3, img_size, img_size], np.float32)\n",
    "                    temp = img[:, top:top+img_size, left:left+img_size]\n",
    "                    piece[:,:temp.shape[1], :temp.shape[2]] = temp\n",
    "                    crop.append(piece)\n",
    "                    position.append([top, left])\n",
    "                    batch_count += 1\n",
    "                    if batch_count == 40:\n",
    "                        crop = torch.tensor(crop).to(device)\n",
    "                        pred = model(crop)\n",
    "                        crop = []\n",
    "                        batch_count = 0\n",
    "                        for num, (t, l) in enumerate(position):\n",
    "                            piece = pred[num]\n",
    "                            c, h, w = result_img[:, t:t+img_size, l:l+img_size].shape\n",
    "                            _piece = np.array((piece[:,:h, :w]*255).cpu().detach(),dtype=np.uint8)\n",
    "                            result_img[:, t:min(t+img_size,img.shape[1]), l:min(l+img_size,img.shape[2])] += _piece[:, :h, :w]\n",
    "                            voting_mask[:, t:t+img_size, l:l+img_size] += 1\n",
    "                        position = []\n",
    "\n",
    "            result_img = result_img/voting_mask\n",
    "            result_img = result_img.astype(np.uint8)\n",
    "            print(result_img.shape)\n",
    "            print(np.max(result_img))\n",
    "            results.append(result_img)\n",
    "    return results\n"
   ]
  }
 ],
 "metadata": {
  "kernelspec": {
   "display_name": "Python 3",
   "language": "python",
   "name": "python3"
  },
  "language_info": {
   "codemirror_mode": {
    "name": "ipython",
    "version": 3
   },
   "file_extension": ".py",
   "mimetype": "text/x-python",
   "name": "python",
   "nbconvert_exporter": "python",
   "pygments_lexer": "ipython3",
   "version": "3.8.5"
  },
  "widgets": {
   "application/vnd.jupyter.widget-state+json": {
    "state": {},
    "version_major": 2,
    "version_minor": 0
   }
  }
 },
 "nbformat": 4,
 "nbformat_minor": 5
}
