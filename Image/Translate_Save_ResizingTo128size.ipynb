{
 "cells": [
  {
   "cell_type": "code",
   "execution_count": 39,
   "id": "76f62183",
   "metadata": {},
   "outputs": [],
   "source": [
    "import cv2\n",
    "import os\n",
    "import numpy as np\n",
    "import tqdm\n",
    "import matplotlib.pyplot as plt"
   ]
  },
  {
   "cell_type": "code",
   "execution_count": 74,
   "id": "abbd60aa",
   "metadata": {},
   "outputs": [
    {
     "name": "stdout",
     "output_type": "stream",
     "text": [
      "/media/data1/mhkim/dataset/TransferLearning/PGGAN/train/0\n"
     ]
    }
   ],
   "source": [
    "import shutil\n",
    "import glob\n",
    "path = '/media/data1/mhkim/dataset/PGGAN/train/0/*'\n",
    "rmpaths = glob.glob(path)\n",
    "len(rmpaths)\n",
    "to_rmpaths = path.replace('PGGAN','TransferLearning/PGGAN')[:-2]\n",
    "print(to_rmpaths)\n",
    "if not os.path.exists(to_rmpaths) : os.makedirs(to_rmpaths)\n",
    "for i in range(800):\n",
    "    shutil.copyfile(rmpaths[i],rmpaths[i].replace('PGGAN','TransferLearning/PGGAN'))"
   ]
  },
  {
   "cell_type": "code",
   "execution_count": null,
   "id": "d3c18448",
   "metadata": {},
   "outputs": [],
   "source": []
  },
  {
   "cell_type": "code",
   "execution_count": 35,
   "id": "7475d92b",
   "metadata": {},
   "outputs": [
    {
     "name": "stdout",
     "output_type": "stream",
     "text": [
      "['/media/data1/sha/CLRNet_jpg25/CLRNet/DeepFakePorn', '/media/data1/sha/CLRNet_jpg25/CLRNet/DeepFake', '/media/data1/sha/CLRNet_jpg25/CLRNet/Face2Face', '/media/data1/sha/CLRNet_jpg25/CLRNet/TransferLearning', '/media/data1/sha/CLRNet_jpg25/CLRNet/DFDC', '/media/data1/sha/CLRNet_jpg25/CLRNet/FaceSwap', '/media/data1/sha/CLRNet_jpg25/CLRNet/NeuralTextures', '/media/data1/sha/CLRNet_jpg25/CLRNet/DeepFakeDetection']\n"
     ]
    },
    {
     "data": {
      "text/plain": [
       "['/media/data1/sha/CLRNet_jpg25/CLRNet/DeepFakePorn',\n",
       " '/media/data1/sha/CLRNet_jpg25/CLRNet/DeepFake',\n",
       " '/media/data1/sha/CLRNet_jpg25/CLRNet/Face2Face',\n",
       " '/media/data1/sha/CLRNet_jpg25/CLRNet/FaceSwap',\n",
       " '/media/data1/sha/CLRNet_jpg25/CLRNet/NeuralTextures',\n",
       " '/media/data1/sha/CLRNet_jpg25/CLRNet/DeepFakeDetection']"
      ]
     },
     "execution_count": 35,
     "metadata": {},
     "output_type": "execute_result"
    }
   ],
   "source": [
    "paths = glob.glob('/media/data1/mhkim/dataset/TransferLearning/*')\n",
    "print(paths)\n",
    "paths.pop(3)\n",
    "paths.pop(3)\n",
    "paths"
   ]
  },
  {
   "cell_type": "code",
   "execution_count": 36,
   "id": "9a48a952",
   "metadata": {},
   "outputs": [],
   "source": [
    "t = glob.glob('/media/data1/sha/CLRNet_jpg25/CLRNet/TransferLearning/*')\n",
    "paths += t"
   ]
  },
  {
   "cell_type": "code",
   "execution_count": 37,
   "id": "da10b9d0",
   "metadata": {},
   "outputs": [
    {
     "name": "stderr",
     "output_type": "stream",
     "text": [
      "0it [00:00, ?it/s]"
     ]
    },
    {
     "name": "stdout",
     "output_type": "stream",
     "text": [
      "['/media/data1/sha/CLRNet_jpg25/CLRNet/DeepFakePorn', '/media/data1/sha/CLRNet_jpg25/CLRNet/DeepFake', '/media/data1/sha/CLRNet_jpg25/CLRNet/Face2Face', '/media/data1/sha/CLRNet_jpg25/CLRNet/FaceSwap', '/media/data1/sha/CLRNet_jpg25/CLRNet/NeuralTextures', '/media/data1/sha/CLRNet_jpg25/CLRNet/DeepFakeDetection', '/media/data1/sha/CLRNet_jpg25/CLRNet/TransferLearning/DeepFakeDetection_mixLQHQ', '/media/data1/sha/CLRNet_jpg25/CLRNet/TransferLearning/F2FmixFS', '/media/data1/sha/CLRNet_jpg25/CLRNet/TransferLearning/DeepFake', '/media/data1/sha/CLRNet_jpg25/CLRNet/TransferLearning/DeepFake_mixLQHQ', '/media/data1/sha/CLRNet_jpg25/CLRNet/TransferLearning/Face2Face', '/media/data1/sha/CLRNet_jpg25/CLRNet/TransferLearning/NeuralTextures_mixLQHQ', '/media/data1/sha/CLRNet_jpg25/CLRNet/TransferLearning/Face2Face_mixLQHQ', '/media/data1/sha/CLRNet_jpg25/CLRNet/TransferLearning/DFmixFS', '/media/data1/sha/CLRNet_jpg25/CLRNet/TransferLearning/FaceSwap', '/media/data1/sha/CLRNet_jpg25/CLRNet/TransferLearning/DFmixF2F', '/media/data1/sha/CLRNet_jpg25/CLRNet/TransferLearning/FaceSwap_mixLQHQ', '/media/data1/sha/CLRNet_jpg25/CLRNet/TransferLearning/NeuralTextures', '/media/data1/sha/CLRNet_jpg25/CLRNet/TransferLearning/DeepFakeDetection']\n",
      "['/media/data1/sha/CLRNet_jpg25/CLRNet/DeepFakePorn', '/media/data1/sha/CLRNet_jpg25/CLRNet/DeepFake', '/media/data1/sha/CLRNet_jpg25/CLRNet/Face2Face', '/media/data1/sha/CLRNet_jpg25/CLRNet/FaceSwap', '/media/data1/sha/CLRNet_jpg25/CLRNet/NeuralTextures', '/media/data1/sha/CLRNet_jpg25/CLRNet/DeepFakeDetection', '/media/data1/sha/CLRNet_jpg25/CLRNet/TransferLearning/DeepFakeDetection_mixLQHQ', '/media/data1/sha/CLRNet_jpg25/CLRNet/TransferLearning/F2FmixFS', '/media/data1/sha/CLRNet_jpg25/CLRNet/TransferLearning/DeepFake', '/media/data1/sha/CLRNet_jpg25/CLRNet/TransferLearning/DeepFake_mixLQHQ', '/media/data1/sha/CLRNet_jpg25/CLRNet/TransferLearning/Face2Face', '/media/data1/sha/CLRNet_jpg25/CLRNet/TransferLearning/NeuralTextures_mixLQHQ', '/media/data1/sha/CLRNet_jpg25/CLRNet/TransferLearning/Face2Face_mixLQHQ', '/media/data1/sha/CLRNet_jpg25/CLRNet/TransferLearning/DFmixFS', '/media/data1/sha/CLRNet_jpg25/CLRNet/TransferLearning/FaceSwap', '/media/data1/sha/CLRNet_jpg25/CLRNet/TransferLearning/DFmixF2F', '/media/data1/sha/CLRNet_jpg25/CLRNet/TransferLearning/FaceSwap_mixLQHQ', '/media/data1/sha/CLRNet_jpg25/CLRNet/TransferLearning/NeuralTextures']\n"
     ]
    },
    {
     "name": "stderr",
     "output_type": "stream",
     "text": [
      "68it [00:25,  2.64it/s]\n",
      "2010it [04:55,  6.80it/s]\n",
      "2010it [04:55,  6.81it/s]\n",
      "2010it [04:58,  6.73it/s]\n",
      "2010it [04:24,  7.59it/s]\n",
      "610it [01:16,  7.97it/s]\n",
      "24it [00:07,  3.33it/s]\n",
      "24it [00:02, 10.98it/s]\n",
      "24it [00:02, 10.79it/s]\n",
      "24it [00:06,  3.75it/s]\n",
      "24it [00:02, 11.15it/s]\n",
      "24it [00:06,  3.91it/s]\n",
      "24it [00:06,  3.71it/s]\n",
      "24it [00:02, 11.27it/s]\n",
      "24it [00:02, 11.70it/s]\n",
      "24it [00:02, 11.45it/s]\n",
      "24it [00:06,  3.71it/s]\n",
      "24it [00:01, 12.42it/s]\n"
     ]
    }
   ],
   "source": [
    "from torchvision import transforms\n",
    "import glob\n",
    "print(paths)\n",
    "paths = paths[:-1]\n",
    "print(paths)\n",
    "save_path = './resize_data'\n",
    "train_aug = transforms.Compose([transforms.Resize(128)])\n",
    "for path in paths:\n",
    "    for dirname, _, filenames in tqdm.tqdm(os.walk(path)):\n",
    "        for filename in filenames:\n",
    "            img_path = os.path.join(dirname, filename)\n",
    "            img = Image.open(img_path)\n",
    "            img = img.convert('RGB')\n",
    "            img = train_aug(img)\n",
    "            path_split = dirname.split('/sha')[1]\n",
    "            file_path = save_path + os.path.join(path_split, filename)\n",
    "            if not os.path.exists(save_path+path_split): \n",
    "                os.makedirs(save_path+path_split)\n",
    "            img.save(file_path)"
   ]
  },
  {
   "cell_type": "code",
   "execution_count": null,
   "id": "6554dc12",
   "metadata": {},
   "outputs": [],
   "source": []
  }
 ],
 "metadata": {
  "kernelspec": {
   "display_name": "cikm2",
   "language": "python",
   "name": "cikm2"
  },
  "language_info": {
   "codemirror_mode": {
    "name": "ipython",
    "version": 3
   },
   "file_extension": ".py",
   "mimetype": "text/x-python",
   "name": "python",
   "nbconvert_exporter": "python",
   "pygments_lexer": "ipython3",
   "version": "3.8.5"
  }
 },
 "nbformat": 4,
 "nbformat_minor": 5
}
