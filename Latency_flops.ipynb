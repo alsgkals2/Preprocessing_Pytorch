{
 "cells": [
  {
   "cell_type": "markdown",
   "metadata": {},
   "source": [
    "### imagenet"
   ]
  },
  {
   "cell_type": "code",
   "execution_count": 7,
   "metadata": {},
   "outputs": [
    {
     "name": "stdout",
     "output_type": "stream",
     "text": [
      "num_class:  1000\n",
      "76 first conv channels\n",
      "CONV for aligning\n"
     ]
    }
   ],
   "source": [
    "import model\n",
    "from model import sresnet_branch1_\n",
    "from thop import profile, clever_format\n",
    "import torch\n",
    "import copy\n",
    "nnet = model.sresnet_branch1_.resnet50(dataset='imagenet').eval()\n",
    "input = torch.randn(1, 3, 224, 224)"
   ]
  },
  {
   "cell_type": "code",
   "execution_count": 8,
   "metadata": {},
   "outputs": [
    {
     "name": "stdout",
     "output_type": "stream",
     "text": [
      "FLOPs:  956.146M ; #params:  3.813M\n"
     ]
    }
   ],
   "source": [
    "macs, params = profile(nnet, inputs=(input, ),verbose=False)\n",
    "macs, params = clever_format([macs, params], \"%.3f\")\n",
    "print(\"FLOPs: \", macs, \"; #params: \", params)"
   ]
  },
  {
   "cell_type": "code",
   "execution_count": 9,
   "metadata": {},
   "outputs": [
    {
     "name": "stdout",
     "output_type": "stream",
     "text": [
      "num_class:  1000\n",
      "76 first conv channels\n",
      "CONV for aligning\n",
      "FLOPs:  1.926G ; #params:  11.134M\n"
     ]
    }
   ],
   "source": [
    "import model\n",
    "from model import sresnet_branch2\n",
    "nnet2 = model.sresnet_branch2.resnet50(dataset='imagenet').eval()\n",
    "input = torch.randn(1, 3, 224, 224)\n",
    "macs, params = profile(nnet2, inputs=(input, ),verbose=False)\n",
    "macs, params = clever_format([macs, params], \"%.3f\")\n",
    "print(\"FLOPs: \", macs, \"; #params: \", params)"
   ]
  },
  {
   "cell_type": "code",
   "execution_count": 12,
   "metadata": {},
   "outputs": [
    {
     "name": "stdout",
     "output_type": "stream",
     "text": [
      "num_class:  1000\n",
      "76 first conv channels\n",
      "CONV for aligning\n",
      "FLOPs:  2.951G ; #params:  32.383M\n"
     ]
    }
   ],
   "source": [
    "import model\n",
    "from model import sresnet_branch3\n",
    "nnet0 = model.sresnet_branch3.resnet50(dataset='imagenet').eval()\n",
    "input = torch.randn(1, 3, 224, 224)\n",
    "macs, params = profile(nnet0, inputs=(input, ),verbose=False)\n",
    "macs, params = clever_format([macs, params], \"%.3f\")\n",
    "print(\"FLOPs: \", macs, \"; #params: \", params)"
   ]
  },
  {
   "cell_type": "code",
   "execution_count": 15,
   "metadata": {},
   "outputs": [
    {
     "name": "stdout",
     "output_type": "stream",
     "text": [
      "num_class:  1000\n",
      "76 first conv channels\n",
      "CONV for aligning\n",
      "FLOPs:  3.507G ; #params:  42.435M\n"
     ]
    }
   ],
   "source": [
    "import model\n",
    "from model import sresnet\n",
    "nnet5 = model.sresnet.resnet50(dataset='imagenet').eval()\n",
    "input = torch.randn(1, 3, 224, 224)\n",
    "macs, params = profile(nnet5, inputs=(input, ),verbose=False)\n",
    "macs, params = clever_format([macs, params], \"%.3f\")\n",
    "print(\"FLOPs: \", macs, \"; #params: \", params)"
   ]
  },
  {
   "cell_type": "code",
   "execution_count": null,
   "metadata": {},
   "outputs": [],
   "source": []
  },
  {
   "cell_type": "code",
   "execution_count": null,
   "metadata": {},
   "outputs": [],
   "source": []
  },
  {
   "cell_type": "markdown",
   "metadata": {},
   "source": [
    "### cifar10"
   ]
  },
  {
   "cell_type": "code",
   "execution_count": 20,
   "metadata": {},
   "outputs": [
    {
     "name": "stdout",
     "output_type": "stream",
     "text": [
      "num_class:  10\n",
      "CONV for aligning\n"
     ]
    }
   ],
   "source": [
    "import model\n",
    "from model import sresnet_branch1__\n",
    "from thop import profile, clever_format\n",
    "import torch\n",
    "import copy\n",
    "nnet = model.sresnet_branch1__.resnet56(dataset='cifar10').eval()\n",
    "input = torch.randn(1, 3, 32, 32)\n"
   ]
  },
  {
   "cell_type": "code",
   "execution_count": 21,
   "metadata": {},
   "outputs": [
    {
     "name": "stdout",
     "output_type": "stream",
     "text": [
      "FLOPs:  19.006M ; #params:  62.394K\n"
     ]
    }
   ],
   "source": [
    "macs, params = profile(nnet, inputs=(input, ),verbose=False)\n",
    "macs, params = clever_format([macs, params], \"%.3f\")\n",
    "print(\"FLOPs: \", macs, \"; #params: \", params)"
   ]
  },
  {
   "cell_type": "code",
   "execution_count": 23,
   "metadata": {},
   "outputs": [
    {
     "name": "stdout",
     "output_type": "stream",
     "text": [
      "num_class:  10\n",
      "CONV for aligning\n",
      "FLOPs:  38.297M ; #params:  285.668K\n"
     ]
    }
   ],
   "source": [
    "from model import sresnet_branch2\n",
    "nnet22 = model.sresnet_branch2.resnet56(dataset='cifar10').eval()\n",
    "input = torch.randn(1, 3, 32, 32)\n",
    "macs, params = profile(nnet22, inputs=(input, ),verbose=False)\n",
    "macs, params = clever_format([macs, params], \"%.3f\")\n",
    "print(\"FLOPs: \", macs, \"; #params: \", params)"
   ]
  },
  {
   "cell_type": "code",
   "execution_count": 27,
   "metadata": {},
   "outputs": [
    {
     "name": "stdout",
     "output_type": "stream",
     "text": [
      "num_class:  10\n",
      "CONV for aligning\n",
      "FLOPs:  50.846M ; #params:  471.342K\n"
     ]
    }
   ],
   "source": [
    "from model import sresnet_branch3\n",
    "nnet3 = model.sresnet_branch3.resnet56(dataset='cifar10').eval()\n",
    "input = torch.randn(1, 3, 32, 32)\n",
    "macs, params = profile(nnet3, inputs=(input, ),verbose=False)\n",
    "macs, params = clever_format([macs, params], \"%.3f\")\n",
    "print(\"FLOPs: \", macs, \"; #params: \", params)"
   ]
  },
  {
   "cell_type": "code",
   "execution_count": null,
   "metadata": {},
   "outputs": [],
   "source": []
  },
  {
   "cell_type": "code",
   "execution_count": null,
   "metadata": {},
   "outputs": [],
   "source": []
  },
  {
   "cell_type": "code",
   "execution_count": null,
   "metadata": {},
   "outputs": [],
   "source": []
  },
  {
   "cell_type": "code",
   "execution_count": 28,
   "metadata": {},
   "outputs": [
    {
     "name": "stdout",
     "output_type": "stream",
     "text": [
      "([tensor([[ -5.0752,   2.7180,   0.8156, -25.3603,   8.6395,   3.9015,   3.3742,\n",
      "           7.2905,  -3.8534,  -2.4289]])], 0)\n",
      "Total forward time is 2.93 seconds\n",
      "FPS:  34.08472210653345 ; Latency:  0.02933865785598755\n"
     ]
    }
   ],
   "source": [
    "import torch\n",
    "import time\n",
    "\n",
    "num_runs = 105\n",
    "num_warmup_runs= 5\n",
    "with torch.no_grad():\n",
    "    for i in range(num_runs):\n",
    "        if i == num_warmup_runs:\n",
    "            start_time = time.time()\n",
    "        pred = nnet(input)\n",
    "\n",
    "print(pred)\n",
    "end_time = time.time()\n",
    "total_forward = end_time - start_time\n",
    "print('Total forward time is %4.2f seconds' % total_forward)\n",
    "\n",
    "actual_num_runs = num_runs - num_warmup_runs\n",
    "latency = total_forward / actual_num_runs\n",
    "fps = actual_num_runs / total_forward\n",
    "\n",
    "print(\"FPS: \", fps, \"; Latency: \", latency)"
   ]
  },
  {
   "cell_type": "code",
   "execution_count": 26,
   "metadata": {},
   "outputs": [
    {
     "ename": "ModuleNotFoundError",
     "evalue": "No module named 'pthflops'",
     "output_type": "error",
     "traceback": [
      "\u001b[0;31m------------------------------------------------------------------\u001b[0m",
      "\u001b[0;31mModuleNotFoundError\u001b[0m              Traceback (most recent call last)",
      "\u001b[0;32m<ipython-input-26-64f665e72955>\u001b[0m in \u001b[0;36m<module>\u001b[0;34m\u001b[0m\n\u001b[1;32m      2\u001b[0m \u001b[0;32mfrom\u001b[0m \u001b[0mtorchvision\u001b[0m\u001b[0;34m.\u001b[0m\u001b[0mmodels\u001b[0m \u001b[0;32mimport\u001b[0m \u001b[0mresnet18\u001b[0m\u001b[0;34m\u001b[0m\u001b[0;34m\u001b[0m\u001b[0m\n\u001b[1;32m      3\u001b[0m \u001b[0;34m\u001b[0m\u001b[0m\n\u001b[0;32m----> 4\u001b[0;31m \u001b[0;32mfrom\u001b[0m \u001b[0mpthflops\u001b[0m \u001b[0;32mimport\u001b[0m \u001b[0mcount_ops\u001b[0m\u001b[0;34m\u001b[0m\u001b[0;34m\u001b[0m\u001b[0m\n\u001b[0m\u001b[1;32m      5\u001b[0m \u001b[0;34m\u001b[0m\u001b[0m\n\u001b[1;32m      6\u001b[0m \u001b[0;31m# Create a network and a corresponding input\u001b[0m\u001b[0;34m\u001b[0m\u001b[0;34m\u001b[0m\u001b[0;34m\u001b[0m\u001b[0m\n",
      "\u001b[0;31mModuleNotFoundError\u001b[0m: No module named 'pthflops'"
     ]
    }
   ],
   "source": [
    "# import torch\n",
    "from torchvision.models import resnet18\n",
    "\n",
    "from pthflops import count_ops\n",
    "\n",
    "# Create a network and a corresponding input\n",
    "device = 'cuda:0'\n",
    "model = resnet18().to(device)\n",
    "inp = torch.rand(1,3,32,32).to(device)\n",
    "\n",
    "# Count the number of FLOPs\n",
    "count_ops(model, inp)"
   ]
  },
  {
   "cell_type": "code",
   "execution_count": null,
   "metadata": {},
   "outputs": [],
   "source": []
  }
 ],
 "metadata": {
  "kernelspec": {
   "display_name": "python37",
   "language": "python",
   "name": "agc2"
  },
  "language_info": {
   "codemirror_mode": {
    "name": "ipython",
    "version": 3
   },
   "file_extension": ".py",
   "mimetype": "text/x-python",
   "name": "python",
   "nbconvert_exporter": "python",
   "pygments_lexer": "ipython3",
   "version": "3.8.3"
  }
 },
 "nbformat": 4,
 "nbformat_minor": 4
}
