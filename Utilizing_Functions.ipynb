{
 "cells": [
  {
   "cell_type": "markdown",
   "id": "2c2ffe46-04ee-445b-8fcb-fdfef914b676",
   "metadata": {},
   "source": [
    "### functions to deal with dataset or file"
   ]
  },
  {
   "cell_type": "code",
   "execution_count": null,
   "id": "08770937-3082-48c2-8dd9-90fef7659e51",
   "metadata": {},
   "outputs": [],
   "source": [
    "img = Image.Image()\n",
    "name_files = glob.glob('/media/data1/sha/CLRNet/CelebDF_custum/val/fake/Charlize Theron/*')\n",
    "\n",
    "new_path = name_files[0].replace('CLRNet','CLRNet_jpg25/CLRNet')\n",
    "idx = (new_path.find('/id'))\n",
    "if not os.path.exists(new_path): os.mkdir(new_path[:idx])"
   ]
  },
  {
   "cell_type": "markdown",
   "id": "bda14e49-c672-477d-aed7-d79ef57cbb49",
   "metadata": {},
   "source": [
    "### one_hot encoding function"
   ]
  },
  {
   "cell_type": "code",
   "execution_count": null,
   "id": "bb6e679c-83d8-4578-9671-c0d81ba27758",
   "metadata": {},
   "outputs": [],
   "source": [
    "torch.nn.functional.one_hot(torch.tensor([1,2,1]))"
   ]
  },
  {
   "cell_type": "markdown",
   "id": "4c530365-305c-4fbf-9abd-82a8fb03f140",
   "metadata": {},
   "source": [
    "### change dtype of Torch"
   ]
  },
  {
   "cell_type": "code",
   "execution_count": null,
   "id": "40758554-534b-4903-9233-430af5e4ac05",
   "metadata": {},
   "outputs": [],
   "source": [
    "y = y.type(torch.LongTensor)"
   ]
  },
  {
   "cell_type": "markdown",
   "id": "69e5e8e3-7ef5-4670-9b1f-f92a33a0abbc",
   "metadata": {},
   "source": [
    "### change data object"
   ]
  },
  {
   "cell_type": "code",
   "execution_count": 8,
   "id": "8261a273-062c-4486-b656-1ca9fb3b3656",
   "metadata": {},
   "outputs": [
    {
     "data": {
      "text/plain": [
       "tensor([1, 2, 3])"
      ]
     },
     "execution_count": 8,
     "metadata": {},
     "output_type": "execute_result"
    }
   ],
   "source": [
    "import numpy as np\n",
    "import torch\n",
    "torch.from_numpy(np.array([1,2]))\n",
    "torch.tensor(list(np.array([1,2,3])))\n"
   ]
  },
  {
   "cell_type": "code",
   "execution_count": null,
   "id": "061f21c8-cc74-49c4-8e96-dcd16d57b932",
   "metadata": {},
   "outputs": [],
   "source": [
    "\n",
    "def tensorToImg(ten_img):\n",
    "    arr = np.array(ten_img)#This is your tensor\n",
    "    arr_ = np.squeeze(arr) # you can give axis attribute if you wanna squeeze in specific dimension\n",
    "    arr_ = np.transpose(arr_,(1,2,0))\n",
    "    plt.imshow(arr_)\n",
    "    plt.show()\n"
   ]
  },
  {
   "cell_type": "markdown",
   "id": "6bf5a876-2268-4e4f-b878-55bc52c41b6d",
   "metadata": {},
   "source": [
    "#### Print args"
   ]
  },
  {
   "cell_type": "code",
   "execution_count": null,
   "id": "4bde04cc-b17b-4305-b12c-aba599b435aa",
   "metadata": {},
   "outputs": [],
   "source": [
    "def print_args(args, logger=None):\n",
    "    for k, v in vars(args).items():\n",
    "        if logger is not None:\n",
    "            logger.write('{:<16} : {}\\n'.format(k, v))\n",
    "        else:\n",
    "            print('{:<16} : {}'.format(k, v))"
   ]
  },
  {
   "cell_type": "markdown",
   "id": "d12ce0f9-45f4-4c8f-912a-43358e48a4b6",
   "metadata": {},
   "source": [
    "#### JPEG Compression & os.walk() function"
   ]
  },
  {
   "cell_type": "code",
   "execution_count": null,
   "id": "6f290db5-3049-4587-8e80-1e5773f656e2",
   "metadata": {},
   "outputs": [],
   "source": [
    "import glob\n",
    "import shutil\n",
    "\n",
    "cnt = 0\n",
    "for a,b,c in os.walk('/media/data1/sha/CLRNet/CelebDF_custum/test'):\n",
    "    print(a,b,c)\n",
    "    if not b:\n",
    "        print(a)\n",
    "        dest = a.replace('CLRNet/CelebDF_custum','CLRNet_jpg25/CLRNet/CelebDF_custum')\n",
    "        os.makedirs(dest,exist_ok=True)\n",
    "        for i, _c in enumerate(c):\n",
    "            if i==800: break\n",
    "            IMAGE_FILE = os.path.join(a, _c)\n",
    "            IMAGE_FILE_DEST = os.path.join(dest,_c)\n",
    "            img = Image.open(IMAGE_FILE)\n",
    "            img.save(IMAGE_FILE_DEST.replace('png','jpeg'),\"JPEG\", quality=25)\n"
   ]
  }
 ],
 "metadata": {
  "kernelspec": {
   "display_name": "Python 3",
   "language": "python",
   "name": "python3"
  },
  "language_info": {
   "codemirror_mode": {
    "name": "ipython",
    "version": 3
   },
   "file_extension": ".py",
   "mimetype": "text/x-python",
   "name": "python",
   "nbconvert_exporter": "python",
   "pygments_lexer": "ipython3",
   "version": "3.8.5"
  },
  "widgets": {
   "application/vnd.jupyter.widget-state+json": {
    "state": {},
    "version_major": 2,
    "version_minor": 0
   }
  }
 },
 "nbformat": 4,
 "nbformat_minor": 5
}
