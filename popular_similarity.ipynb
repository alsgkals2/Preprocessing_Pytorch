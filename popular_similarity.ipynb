{
 "cells": [
  {
   "cell_type": "markdown",
   "metadata": {},
   "source": [
    "#### link : http://sungsoo.github.io/2015/06/29/similarity-measures.html"
   ]
  },
  {
   "cell_type": "markdown",
   "metadata": {},
   "source": [
    "##### Similarity is the measure of how much alike two data objects are. Similarity in a data mining context is usually described as a distance with dimensions representing features of the objects. If this distance is small it will be high degree of similarity where as large distance will be low degree of similarity.Similarity is subjective and is highly dependant on the domain and application. For example two fruits are similar because of color or size or taste. Care should be taken when calculating distance across dimensions/features that are unrelated. The relative values of each feature must be normalized or one feature could end up dominating the distance calculation. Similarity are measure in the range 0 to 1 [0,1]."
   ]
  },
  {
   "cell_type": "code",
   "execution_count": null,
   "metadata": {},
   "outputs": [],
   "source": []
  },
  {
   "cell_type": "code",
   "execution_count": null,
   "metadata": {},
   "outputs": [],
   "source": []
  },
  {
   "cell_type": "markdown",
   "metadata": {},
   "source": [
    "#####     Euclidean distance is the most common use of distance. In most cases when people said about distance, they will refer to Euclidean distance. Euclidean distance  is also know as simply distance. When data is dense or continuous , this is the best proximity measure. The Euclidean distance between two points is the length of the path connecting them.This distance between two points is given by the Pythagorean theorem."
   ]
  },
  {
   "cell_type": "code",
   "execution_count": 2,
   "metadata": {},
   "outputs": [
    {
     "name": "stdout",
     "output_type": "stream",
     "text": [
      "9.746794344808963\n"
     ]
    }
   ],
   "source": [
    "from math import*\n",
    "\n",
    "def euclidean_distance(x,y):\n",
    "\n",
    "    return sqrt(sum(pow(a-b,2) for a, b in zip(x, y)))\n",
    "\n",
    "print(euclidean_distance([0,3,4,5],[7,6,3,-1]))\n"
   ]
  },
  {
   "cell_type": "markdown",
   "metadata": {},
   "source": [
    "#####    Manhattan distance is an metric in which the distance between two points is the sum of the absolute differences of their Cartesian coordinates. In simple way of saying it is the absolute sum of difference between the x-coordinates  and y-coordinates. Suppose we have two point A and B if we want to find the manhattan distane between them, just we have to sum up the absultue x-axis and y – axis variation means we have to find how these to points A and B are varining in X-axis and Y- axis.In more mathematical way of saying Manhattan distance between two points measured along axes at right angles. This Manhattan distance metric is also known as Manhattan length,rectilinear distance, L1 distance or L1 norm ,city block distance,Minkowski’s L1 distance,taxi cab metric, or city block distance.\n",
    "\n"
   ]
  },
  {
   "cell_type": "code",
   "execution_count": 5,
   "metadata": {},
   "outputs": [
    {
     "name": "stdout",
     "output_type": "stream",
     "text": [
      "10\n"
     ]
    }
   ],
   "source": [
    "def manhattan_distance(x,y):\n",
    "    return sum(abs(a-b) for a,b in zip(x,y))\n",
    "\n",
    "print(manhattan_distance([10,20,10],[10,20,20]))"
   ]
  },
  {
   "cell_type": "code",
   "execution_count": null,
   "metadata": {},
   "outputs": [],
   "source": []
  },
  {
   "cell_type": "markdown",
   "metadata": {},
   "source": [
    "##### Synonyms of Minkowski: Different names for the Minkowski distance or Minkowski metric arise form the order:\n",
    "\n",
    "λ = 1 is the Manhattan distance. Synonyms are L1-Norm, Taxicab or City-Block distance. For two vectors of ranked ordinal variables the Manhattan distance is sometimes called Foot-ruler distance.\n",
    "λ = 2 is the Euclidean distance. Synonyms are L2-Norm or Ruler distance. For two vectors of ranked ordinal variables the Euclidean distance is sometimes called Spear-man distance.\n",
    "λ = ∞ is the Chebyshev distance. Synonym are Lmax-Norm or Chessboard distance.\n",
    "reference."
   ]
  },
  {
   "cell_type": "code",
   "execution_count": null,
   "metadata": {},
   "outputs": [],
   "source": [
    "from math import*\n",
    "from decimal import Decimal\n",
    "\n",
    "def nth_root(value, n_root):\n",
    "\n",
    "    root_value = 1/float(n_root)\n",
    "    return round (Decimal(value) ** Decimal(root_value),3)\n",
    "\n",
    "def minkowski_distance(x,y,p_value):\n",
    "\n",
    "    return nth_root(sum(pow(abs(a-b),p_value) for a,b in zip(x, y)),p_value)\n",
    "\n",
    "print minkowski_distance([0,3,4,5],[7,6,3,-1],3)"
   ]
  },
  {
   "cell_type": "code",
   "execution_count": null,
   "metadata": {},
   "outputs": [],
   "source": []
  },
  {
   "cell_type": "markdown",
   "metadata": {},
   "source": [
    "##### Cosine similarity metric finds the normalized dot product of the two attributes. By determining the cosine similarity, we will effectively trying to find cosine of the angle between the two objects. The cosine of 0° is 1, and it is less than 1 for any other angle. It is thus a judgement of orientation and not magnitude: two vectors with the same orientation have a cosine similarity of 1, two vectors at 90° have a similarity of 0, and two vectors diametrically opposed have a similarity of -1, independent of their magnitude. Cosine similarity is particularly used in positive space, where the outcome is neatly bounded in [0,1]. One of the reasons for the popularity of cosine similarity is that it is very efficient to evaluate, especially for sparse vectors."
   ]
  },
  {
   "cell_type": "code",
   "execution_count": 11,
   "metadata": {},
   "outputs": [
    {
     "name": "stdout",
     "output_type": "stream",
     "text": [
      "0.972\n"
     ]
    }
   ],
   "source": [
    "\n",
    "def square_rooted(x):\n",
    "    return round(sqrt(sum([a*a for a in x])),3)\n",
    "\n",
    "def cosine_similarity(x,y):\n",
    "    numerator = sum(a*b for a,b in zip(x,y))\n",
    "    denominator = square_rooted(x)*square_rooted(y)\n",
    "    return round(numerator/float(denominator),3)\n",
    "\n",
    "print(cosine_similarity([3, 45, 7, 2], [2, 54, 13, 15]))"
   ]
  },
  {
   "cell_type": "code",
   "execution_count": null,
   "metadata": {},
   "outputs": [],
   "source": []
  },
  {
   "cell_type": "markdown",
   "metadata": {},
   "source": [
    "#### The Jaccard similarity measures similarity between finite sample sets, and is defined as the cardinality of the intersection of sets divided by the cardinality of the union of the sample sets. Suppose you want to find jaccard similarity between two sets A and B it is the ration of cardinality of A ∩ B and A ∪ B"
   ]
  },
  {
   "cell_type": "code",
   "execution_count": 16,
   "metadata": {},
   "outputs": [
    {
     "name": "stdout",
     "output_type": "stream",
     "text": [
      "0.375\n"
     ]
    }
   ],
   "source": [
    "\n",
    "def jaccard_similarity(x,y):\n",
    "\n",
    "    intersection_cardinality = len(set.intersection(*[set(x), set(y)]))\n",
    "    union_cardinality = len(set.union(*[set(x), set(y)]))\n",
    "    return intersection_cardinality/float(union_cardinality)\n",
    "\n",
    "print(jaccard_similarity([0,1,2,5,6],[0,2,3,5,7,9]))"
   ]
  },
  {
   "cell_type": "code",
   "execution_count": null,
   "metadata": {},
   "outputs": [],
   "source": []
  },
  {
   "cell_type": "code",
   "execution_count": null,
   "metadata": {},
   "outputs": [],
   "source": []
  },
  {
   "cell_type": "code",
   "execution_count": 24,
   "metadata": {},
   "outputs": [
    {
     "name": "stdout",
     "output_type": "stream",
     "text": [
      "[1, 3, 1]\n"
     ]
    }
   ],
   "source": [
    "temp = [1,2,3,1]\n",
    "temp.pop(1)\n",
    "print(temp)"
   ]
  },
  {
   "cell_type": "code",
   "execution_count": null,
   "metadata": {},
   "outputs": [],
   "source": []
  },
  {
   "cell_type": "code",
   "execution_count": 78,
   "metadata": {},
   "outputs": [
    {
     "name": "stdout",
     "output_type": "stream",
     "text": [
      "[1, 2, 3, 4, 5, 1, 2, 3, 4, 5, 1, 2, 3, 4, 5, 1, 2, 3, 4, 5, 1, 2, 3, 4, 5, 1, 2, 3, 4, 5, 1, 2, 3, 4, 5, 1, 2, 3, 4, 5]\n",
      "[2, 1, 2, 3, 2, 4, 2, 5, 2, 1, 2, 3, 2, 4, 2, 5, 2, 1, 2, 3, 2, 4, 2, 5, 2, 1, 2, 3, 2, 4, 2, 5, 2, 1, 2, 3, 2, 4, 2, 5]\n",
      "[3, 3, 1, 1, 2, 2, 4, 4, 5, 5, 3, 3, 1, 1, 2, 2, 4, 4, 5, 5, 3, 3, 1, 1, 2, 2, 4, 4, 5, 5, 3, 3, 1, 1, 2, 2, 4, 4, 5, 5]\n"
     ]
    }
   ],
   "source": [
    "_one = [1, 2, 3, 4, 5]#, 1, 2, 3, 4, 5, ...\n",
    "_two = [2, 1, 2, 3, 2, 4, 2, 5]#2, 1, 2, 3, 2, 4, 2, 5, ...\n",
    "_three = [3, 3, 1, 1, 2, 2, 4, 4, 5, 5]#3, 3, 1, 1, 2, 2, 4, 4, 5, 5, ...\n",
    "temp = [_one, _two, _three]\n",
    "for idx, _item in enumerate(temp):\n",
    "    __item = copy.deepcopy(_item)\n",
    "    while (len(_item)<40):\n",
    "        _item = _item + __item\n",
    "    temp[idx]= _item   \n",
    "    print(temp[idx])\n"
   ]
  },
  {
   "cell_type": "code",
   "execution_count": 51,
   "metadata": {},
   "outputs": [],
   "source": [
    "a = [3,2,1]"
   ]
  },
  {
   "cell_type": "code",
   "execution_count": 52,
   "metadata": {},
   "outputs": [
    {
     "data": {
      "text/plain": [
       "[1, 2, 3]"
      ]
     },
     "execution_count": 52,
     "metadata": {},
     "output_type": "execute_result"
    }
   ],
   "source": [
    "sorted(a)"
   ]
  },
  {
   "cell_type": "code",
   "execution_count": 31,
   "metadata": {},
   "outputs": [
    {
     "name": "stdout",
     "output_type": "stream",
     "text": [
      "10000\n"
     ]
    }
   ],
   "source": [
    "print(len(_three))"
   ]
  },
  {
   "cell_type": "code",
   "execution_count": 44,
   "metadata": {},
   "outputs": [
    {
     "data": {
      "text/plain": [
       "8"
      ]
     },
     "execution_count": 44,
     "metadata": {},
     "output_type": "execute_result"
    }
   ],
   "source": [
    "temp[2].index(max(temp[2]))"
   ]
  },
  {
   "cell_type": "code",
   "execution_count": null,
   "metadata": {},
   "outputs": [],
   "source": []
  },
  {
   "cell_type": "code",
   "execution_count": 72,
   "metadata": {},
   "outputs": [
    {
     "data": {
      "text/plain": [
       "40"
      ]
     },
     "execution_count": 72,
     "metadata": {},
     "output_type": "execute_result"
    }
   ],
   "source": [
    "len(temp[2])"
   ]
  },
  {
   "cell_type": "code",
   "execution_count": 79,
   "metadata": {},
   "outputs": [
    {
     "name": "stdout",
     "output_type": "stream",
     "text": [
      "40\n",
      "[16, 11, 8]\n",
      "[1]\n"
     ]
    }
   ],
   "source": [
    "def solution(answers):\n",
    "    answer = []\n",
    "    people = []\n",
    "    cnt = [0,0,0]\n",
    "    answers = answers*8\n",
    "    print(len(answers))\n",
    "    for i, ans in enumerate(answers):\n",
    "        for j in range(len(temp)):\n",
    "            if ans == temp[j][i]:\n",
    "                cnt[j] +=1\n",
    "    print(cnt)\n",
    "    _max = max(cnt)\n",
    "    answer = [idx+1 for idx,item in enumerate(cnt) if item == _max]\n",
    "    return answer\n",
    "print(solution([1,3,2,4,2]))"
   ]
  },
  {
   "cell_type": "code",
   "execution_count": 6,
   "metadata": {},
   "outputs": [
    {
     "name": "stdout",
     "output_type": "stream",
     "text": [
      "[0 0 0]\n",
      "[6, 10, 2] [0 0 0] 6\n",
      "[6, 10, 2] [1 0 0] 10\n",
      "[6, 10, 2] [1 1 0] 2\n",
      "[6, 10, 2] [1 1 0] 2\n",
      "[6, 10, 2] [1 0 0] 10\n",
      "[6, 10, 2] [1 1 0] 2\n",
      "[6, 10, 2] [1 1 0] 2\n",
      "6102\n"
     ]
    },
    {
     "data": {
      "text/plain": [
       "'6102'"
      ]
     },
     "execution_count": 6,
     "metadata": {},
     "output_type": "execute_result"
    }
   ],
   "source": [
    "import copy\n",
    "answer = '-1'\n",
    "import numpy as np\n",
    "# np.array.\n",
    "def solution(numbers, visit=None, num='-1'):\n",
    "    global answer\n",
    "    if not numbers : return None\n",
    "    if visit is None :\n",
    "        visit = np.zeros_like(numbers)\n",
    "        print(visit)\n",
    "    else:\n",
    "        visit = visit\n",
    "        \n",
    "    _answer = num\n",
    "#     print(len(numbers))\n",
    "    for i in range(len(numbers)):\n",
    "        \n",
    "        if numbers:\n",
    "            if visit[i] == 0:\n",
    "                print(numbers, visit, numbers[i])\n",
    "                _answer+=str(numbers[i])\n",
    "                visit[i] = True\n",
    "                if int(answer)<int(_answer) and len(_answer)==4:\n",
    "                    answer = _answer\n",
    "                    print(answer)\n",
    "                solution(copy.deepcopy(numbers), copy.deepcopy(visit),+answer)\n",
    "    \n",
    "    return answer\n",
    "solution(inp)"
   ]
  },
  {
   "cell_type": "code",
   "execution_count": null,
   "metadata": {},
   "outputs": [],
   "source": []
  },
  {
   "cell_type": "code",
   "execution_count": null,
   "metadata": {},
   "outputs": [],
   "source": []
  },
  {
   "cell_type": "code",
   "execution_count": null,
   "metadata": {},
   "outputs": [],
   "source": []
  },
  {
   "cell_type": "code",
   "execution_count": null,
   "metadata": {},
   "outputs": [],
   "source": []
  },
  {
   "cell_type": "code",
   "execution_count": 384,
   "metadata": {},
   "outputs": [],
   "source": [
    "costs = [1,5,10,50,100,500]\n",
    "inputs = [1,4,99,35,50,1000]\n",
    "money = 4578"
   ]
  },
  {
   "cell_type": "code",
   "execution_count": 491,
   "metadata": {},
   "outputs": [],
   "source": [
    "costs = [1,5,10,50,100,500]\n",
    "inputs = [2, 11, 20, 100, 200, 600]\n",
    "money = 1999"
   ]
  },
  {
   "cell_type": "code",
   "execution_count": null,
   "metadata": {},
   "outputs": [],
   "source": []
  },
  {
   "cell_type": "code",
   "execution_count": 492,
   "metadata": {},
   "outputs": [],
   "source": [
    "import numpy as np\n",
    "ratios = list(np.array(costs)/np.array(inputs))\n",
    "\n",
    "# ratios\n",
    "\n",
    "a=list(ratios)\n",
    "a = sorted(range(len(a)), key=a.__getitem__)\n",
    "a.reverse()\n",
    "\n",
    "new_costs = [costs[i] for i in a]\n",
    "new_inputs = [inputs[i] for i in a]"
   ]
  },
  {
   "cell_type": "code",
   "execution_count": 496,
   "metadata": {},
   "outputs": [
    {
     "data": {
      "text/plain": [
       "([500, 100, 50, 10, 1, 5], [600, 200, 100, 20, 2, 11])"
      ]
     },
     "execution_count": 496,
     "metadata": {},
     "output_type": "execute_result"
    }
   ],
   "source": [
    "new_costs, new_inputs"
   ]
  },
  {
   "cell_type": "code",
   "execution_count": null,
   "metadata": {},
   "outputs": [],
   "source": []
  },
  {
   "cell_type": "code",
   "execution_count": null,
   "metadata": {},
   "outputs": [],
   "source": []
  },
  {
   "cell_type": "code",
   "execution_count": null,
   "metadata": {},
   "outputs": [],
   "source": []
  },
  {
   "cell_type": "code",
   "execution_count": null,
   "metadata": {},
   "outputs": [],
   "source": []
  },
  {
   "cell_type": "code",
   "execution_count": 544,
   "metadata": {},
   "outputs": [],
   "source": [
    "\n",
    "def init(costs):\n",
    "    coin = [1,5,10,50,100,500]\n",
    "    ratios = list(np.array(coin)/np.array(costs))\n",
    "    # ratios\n",
    "\n",
    "    a=list(ratios)\n",
    "    a = sorted(range(len(a)), key=a.__getitem__)\n",
    "    a.reverse()\n",
    "\n",
    "    new_costs = [coin[i] for i in a]\n",
    "    new_inputs = [costs[i] for i in a]\n",
    "    return new_costs, new_inputs\n",
    "\n",
    "new_costs, new_inputs = None, None\n",
    "# coin =list(np.array(new_inputs))\n",
    "best=0\n",
    "is_exit = False\n",
    "\n",
    "\n",
    "def coinChange(money, return_money, sum_money):\n",
    "    global best, is_exit\n",
    "    if sum_money == money and best < return_money:\n",
    "        best = return_money\n",
    "        is_exit = True\n",
    "    elif sum_money > money or is_exit:\n",
    "        return\n",
    "    i=0\n",
    "    while i in range(len(new_inputs)):\n",
    "        if sum_money < money:\n",
    "            coinChange(money, return_money+new_inputs[i], sum_money+new_costs[i])\n",
    "        if is_exit : return\n",
    "        i +=1\n",
    "    return None\n",
    "\n",
    "\n",
    "def solution(money, costs):\n",
    "    global new_costs, new_inputs\n",
    "    new_costs, new_inputs = init(costs)\n",
    "    coinChange(money,0,0)\n",
    "    answer = best\n",
    "    return answer"
   ]
  },
  {
   "cell_type": "code",
   "execution_count": 545,
   "metadata": {},
   "outputs": [
    {
     "name": "stdout",
     "output_type": "stream",
     "text": [
      "2308\n"
     ]
    }
   ],
   "source": [
    "print(solution(4578, [1, 4, 99, 35, 50, 1000]))"
   ]
  },
  {
   "cell_type": "code",
   "execution_count": 507,
   "metadata": {},
   "outputs": [],
   "source": [
    "coin =list(np.array(new_inputs))\n",
    "best=0\n",
    "is_exit = False\n",
    "def coinChange(choice, return_money, sum_money):\n",
    "    global best, is_exit\n",
    "    if sum_money == money and best < return_money:\n",
    "        best = return_money\n",
    "        is_exit = True\n",
    "    elif sum_money > money or is_exit:\n",
    "        return\n",
    "    i=0\n",
    "    \n",
    "    while i in range(len(coin)):\n",
    "        if sum_money < money:\n",
    "            coinChange(choice, return_money+coin[i], sum_money+new_costs[i])\n",
    "        if is_exit : return\n",
    "        i +=1\n"
   ]
  },
  {
   "cell_type": "code",
   "execution_count": 508,
   "metadata": {},
   "outputs": [],
   "source": [
    "coinChange(choice,0,0)"
   ]
  },
  {
   "cell_type": "code",
   "execution_count": 509,
   "metadata": {
    "scrolled": true
   },
   "outputs": [
    {
     "data": {
      "text/plain": [
       "2798"
      ]
     },
     "execution_count": 509,
     "metadata": {},
     "output_type": "execute_result"
    }
   ],
   "source": [
    "best"
   ]
  },
  {
   "cell_type": "code",
   "execution_count": null,
   "metadata": {},
   "outputs": [],
   "source": []
  },
  {
   "cell_type": "code",
   "execution_count": null,
   "metadata": {},
   "outputs": [],
   "source": []
  },
  {
   "cell_type": "code",
   "execution_count": null,
   "metadata": {},
   "outputs": [],
   "source": []
  },
  {
   "cell_type": "code",
   "execution_count": null,
   "metadata": {},
   "outputs": [],
   "source": []
  },
  {
   "cell_type": "code",
   "execution_count": 558,
   "metadata": {},
   "outputs": [
    {
     "name": "stdout",
     "output_type": "stream",
     "text": [
      "[0, 1]\n"
     ]
    }
   ],
   "source": [
    "\n",
    "print(pos)"
   ]
  },
  {
   "cell_type": "code",
   "execution_count": 556,
   "metadata": {},
   "outputs": [
    {
     "data": {
      "text/plain": [
       "array([0, 0, 1, 1])"
      ]
     },
     "execution_count": 556,
     "metadata": {},
     "output_type": "execute_result"
    }
   ],
   "source": [
    "edge1"
   ]
  },
  {
   "cell_type": "code",
   "execution_count": 614,
   "metadata": {},
   "outputs": [],
   "source": [
    "# Definition for a binary tree node.\n",
    "class TreeNode:\n",
    "    def __init__(self, x, arr):\n",
    "        self.val = x\n",
    "        self.left = -1\n",
    "        self.right = -1\n",
    "        self.arr = arr\n",
    "        self.__find__idx()\n",
    "        \n",
    "    def __find__idx(self):\n",
    "        edge1 = list(np.array(self.arr)[:,0])\n",
    "        pos = [i for i in range(len(edge1)) if edge1[i]==self.val]\n",
    "        if pos:\n",
    "            self.left = self.arr[pos[0]][1]\n",
    "            self.right = self.arr[pos[1]][1]\n",
    "class Solution:\n",
    "    def diameterOfBinaryTree(self, root):\n",
    "        \"\"\"\n",
    "        :type root: TreeNode\n",
    "        :rtype: int\n",
    "        \"\"\"\n",
    "        num=1\n",
    "        return_cnt = 0\n",
    "        def dfs(node, num, return_cnt, list_check):\n",
    "            if node is None:\n",
    "                return item_return_cnt\n",
    "            \n",
    "            elif num==3 :\n",
    "                return_cnt += 1\n",
    "                print(return_cnt)\n",
    "                return return_cnt\n",
    "            node = TreeNode(node, edges)\n",
    "            if node.val not in list_check:\n",
    "                list_check.append(node.val)\n",
    "                left_cnt = dfs(node.left, num+1, return_cnt,list_check)\n",
    "                right_cnt = dfs(node.right, num+1, return_cnt)\n",
    "            return left_cnt + right_cnt\n",
    "        return_cnt = dfs(root, num+1, return_cnt)\n",
    "        return return_cnt"
   ]
  },
  {
   "cell_type": "code",
   "execution_count": null,
   "metadata": {},
   "outputs": [],
   "source": []
  },
  {
   "cell_type": "code",
   "execution_count": 679,
   "metadata": {},
   "outputs": [],
   "source": [
    "# Definition for a binary tree node.\n",
    "class TreeNode:\n",
    "    def __init__(self, x, arr):\n",
    "        self.val = x\n",
    "        self.others = []\n",
    "        self.arr = arr\n",
    "        self.__find__idx()\n",
    "        \n",
    "    def __find__idx(self):\n",
    "        for idx,_item in enumerate(self.arr):\n",
    "            if self.val in _item:\n",
    "                self.others.append(idx)\n",
    "        print('__find__idx' , self.val, self.others)\n",
    "class Solution:\n",
    "    def diameterOfBinaryTree(self, root, nNode):\n",
    "        \"\"\"\n",
    "        :type root: TreeNode\n",
    "        :rtype: int\n",
    "        \"\"\"\n",
    "        num=1\n",
    "        return_cnt = 0\n",
    "        list_check = []\n",
    "        def dfs(node, num, return_cnt, list_check):\n",
    "            _cnt=0\n",
    "            node = TreeNode(node, edges_new)\n",
    "            if num==3 and node.val not in list_check:\n",
    "                return_cnt += 1\n",
    "                print(list_check)\n",
    "                print(return_cnt)\n",
    "                return return_cnt\n",
    "            elif node.val in list_check:\n",
    "                return 0\n",
    "            \n",
    "            if node.val not in list_check:\n",
    "                list_check.append(node.val)\n",
    "            for ele in node.others:\n",
    "#                 print(ele, num+1, return_cnt,list_check)\n",
    "                _cnt += dfs(ele, num+1, return_cnt, list_check)\n",
    "#                 print(_cnt)\n",
    "            if node.val in list_check:\n",
    "                list_check.pop()\n",
    "            return _cnt\n",
    "        return_cnt = dfs(root, num, return_cnt, list_check)\n",
    "        return return_cnt"
   ]
  },
  {
   "cell_type": "code",
   "execution_count": 681,
   "metadata": {},
   "outputs": [
    {
     "name": "stdout",
     "output_type": "stream",
     "text": [
      "__find__idx 0 [1]\n",
      "__find__idx 1 [0, 2]\n",
      "__find__idx 0 [1]\n",
      "__find__idx 2 [1, 3]\n",
      "[0, 1]\n",
      "1\n",
      "1\n"
     ]
    }
   ],
   "source": [
    "# edges = [[0,1],[0,2],[1,3],[1,4]]\n",
    "# edges_new = [[1,2],[0,3,4],[0],[1]]\n",
    "edges = [[2,3],[0,1],[1,2]]\n",
    "edges_new = [[1],[0,2],[3,1],[2]]\n",
    "_tree = root\n",
    "solution = Solution()\n",
    "# for i in range(len(edges)):\n",
    "# root = TreeNode(0,edges)\n",
    "print(solution.diameterOfBinaryTree(0, len(edges_new)))\n",
    "    \n",
    "\n",
    "# solution.diameterOfBinaryTree(root)"
   ]
  },
  {
   "cell_type": "code",
   "execution_count": 582,
   "metadata": {},
   "outputs": [
    {
     "data": {
      "text/plain": [
       "0"
      ]
     },
     "execution_count": 582,
     "metadata": {},
     "output_type": "execute_result"
    }
   ],
   "source": [
    "root.val"
   ]
  },
  {
   "cell_type": "code",
   "execution_count": 551,
   "metadata": {},
   "outputs": [
    {
     "data": {
      "text/plain": [
       "0"
      ]
     },
     "execution_count": 551,
     "metadata": {},
     "output_type": "execute_result"
    }
   ],
   "source": [
    "root.left.val"
   ]
  },
  {
   "cell_type": "code",
   "execution_count": null,
   "metadata": {},
   "outputs": [],
   "source": []
  },
  {
   "cell_type": "code",
   "execution_count": null,
   "metadata": {},
   "outputs": [],
   "source": []
  },
  {
   "cell_type": "code",
   "execution_count": 1,
   "metadata": {},
   "outputs": [],
   "source": [
    "input1 = [[1, 1, 0], [1, 1, 0], [0, 0, 1]]\n",
    "input2 = [[1, 1, 0], [1, 1, 1], [0, 1, 1]]\n",
    "n = 3"
   ]
  },
  {
   "cell_type": "code",
   "execution_count": 9,
   "metadata": {},
   "outputs": [],
   "source": [
    "\n",
    "def is_all_checked(arr):\n",
    "    if np.array(arr).all()==True:\n",
    "        return True\n",
    "    else: return False\n",
    "    "
   ]
  },
  {
   "cell_type": "code",
   "execution_count": null,
   "metadata": {},
   "outputs": [],
   "source": []
  },
  {
   "cell_type": "code",
   "execution_count": 158,
   "metadata": {},
   "outputs": [],
   "source": [
    "import copy\n",
    "cnt = 0\n",
    "list_check = np.zeros_like(input1[0])\n",
    "list_network_idx = []\n",
    "def DFS(arr, arr_check, arr_idx):\n",
    "    global cnt\n",
    "    for _, one_arr in enumerate(arr):\n",
    "#         if _ != 0 : break\n",
    "        list_network_idx = []\n",
    "#         print('idx is ',_)\n",
    "        for idx in range(len(one_arr)):\n",
    "            if list_check[idx] == 1 or one_arr[idx] == 0 :\n",
    "                continue\n",
    "            print(idx, _, list_check[idx])\n",
    "            if idx == _ and list_check[idx] == 0:\n",
    "                cnt += 1\n",
    "            list_check[idx] = 1\n",
    "            arr_idx.append(idx)\n",
    "            DFS(arr, list_check, arr_idx)\n"
   ]
  },
  {
   "cell_type": "code",
   "execution_count": 159,
   "metadata": {},
   "outputs": [
    {
     "data": {
      "text/plain": [
       "[[1, 1, 0], [1, 1, 0], [0, 0, 1]]"
      ]
     },
     "execution_count": 159,
     "metadata": {},
     "output_type": "execute_result"
    }
   ],
   "source": [
    "input1"
   ]
  },
  {
   "cell_type": "code",
   "execution_count": 160,
   "metadata": {},
   "outputs": [
    {
     "data": {
      "text/plain": [
       "[[1, 1, 0], [1, 1, 1], [0, 1, 1]]"
      ]
     },
     "execution_count": 160,
     "metadata": {},
     "output_type": "execute_result"
    }
   ],
   "source": [
    "input2"
   ]
  },
  {
   "cell_type": "code",
   "execution_count": 161,
   "metadata": {},
   "outputs": [
    {
     "name": "stdout",
     "output_type": "stream",
     "text": [
      "idx is  0\n",
      "0 0 0\n",
      "cnt check\n",
      "idx is  0\n",
      "1 0 0\n",
      "idx is  0\n",
      "idx is  1\n",
      "2 1 0\n",
      "idx is  0\n",
      "idx is  1\n",
      "idx is  2\n",
      "idx is  2\n",
      "idx is  1\n",
      "idx is  2\n",
      "idx is  1\n",
      "idx is  2\n"
     ]
    }
   ],
   "source": [
    "DFS(input2,list_check, list_network_idx)"
   ]
  },
  {
   "cell_type": "code",
   "execution_count": 162,
   "metadata": {},
   "outputs": [
    {
     "data": {
      "text/plain": [
       "[0, 1, 2]"
      ]
     },
     "execution_count": 162,
     "metadata": {},
     "output_type": "execute_result"
    }
   ],
   "source": [
    "list_network_idx"
   ]
  },
  {
   "cell_type": "code",
   "execution_count": 163,
   "metadata": {},
   "outputs": [
    {
     "data": {
      "text/plain": [
       "1"
      ]
     },
     "execution_count": 163,
     "metadata": {},
     "output_type": "execute_result"
    }
   ],
   "source": [
    "cnt"
   ]
  },
  {
   "cell_type": "code",
   "execution_count": null,
   "metadata": {},
   "outputs": [],
   "source": []
  },
  {
   "cell_type": "code",
   "execution_count": null,
   "metadata": {},
   "outputs": [],
   "source": []
  },
  {
   "cell_type": "markdown",
   "metadata": {},
   "source": [
    "# 안랩"
   ]
  },
  {
   "cell_type": "code",
   "execution_count": 175,
   "metadata": {},
   "outputs": [],
   "source": [
    "temp = str1+str2+str3"
   ]
  },
  {
   "cell_type": "code",
   "execution_count": 178,
   "metadata": {},
   "outputs": [
    {
     "data": {
      "text/plain": [
       "'abcCbA1221!@##@!'"
      ]
     },
     "execution_count": 178,
     "metadata": {},
     "output_type": "execute_result"
    }
   ],
   "source": [
    "temp"
   ]
  },
  {
   "cell_type": "code",
   "execution_count": 239,
   "metadata": {},
   "outputs": [],
   "source": [
    "input = [\"!@ab12cCbA21@!!!!!\", \"!@ab12cCbA21@!\", \"ab12cCbA21\"]\n",
    "# input = [\"\", \"\"]\n",
    "input = [\"a\", \"0&1*0\"]"
   ]
  },
  {
   "cell_type": "code",
   "execution_count": 240,
   "metadata": {},
   "outputs": [],
   "source": [
    "def split(s):\n",
    "    digit, alpha, charac = '','',''\n",
    "    for item in s:\n",
    "        if item.isdigit():\n",
    "            digit+=item\n",
    "        elif item.isalpha():\n",
    "            alpha += item\n",
    "        else:\n",
    "            charac += item\n",
    "    return digit, alpha, charac\n",
    "        \n",
    "def is_pel(s):\n",
    "    s = s.lower()\n",
    "    return 1 if s==s[::-1] else 0, len(s)\n",
    "        \n",
    "def solution(s):\n",
    "    answer = -1\n",
    "    \n",
    "    for _s in s:\n",
    "        cnt = 0\n",
    "        if not _s : cnt +=1\n",
    "            \n",
    "        strs = ['','','']\n",
    "        strs[0], strs[1], strs[2] = split(_s)\n",
    "\n",
    "        for _str in strs:\n",
    "            results = is_pel(_str)\n",
    "            if results[0]:\n",
    "                cnt += results[1]\n",
    "            else :\n",
    "                cnt = 0\n",
    "                break\n",
    "        if answer < cnt : answer = cnt\n",
    "    return answer"
   ]
  },
  {
   "cell_type": "code",
   "execution_count": 241,
   "metadata": {},
   "outputs": [
    {
     "data": {
      "text/plain": [
       "1"
      ]
     },
     "execution_count": 241,
     "metadata": {},
     "output_type": "execute_result"
    }
   ],
   "source": [
    "solution(input)"
   ]
  },
  {
   "cell_type": "code",
   "execution_count": null,
   "metadata": {},
   "outputs": [],
   "source": [
    "str1 = 'abcCbA'\n",
    "str2 = '1221'\n",
    "str3 = '!@##@!'"
   ]
  },
  {
   "cell_type": "code",
   "execution_count": 193,
   "metadata": {},
   "outputs": [],
   "source": []
  },
  {
   "cell_type": "code",
   "execution_count": 203,
   "metadata": {},
   "outputs": [],
   "source": []
  },
  {
   "cell_type": "code",
   "execution_count": null,
   "metadata": {},
   "outputs": [],
   "source": []
  },
  {
   "cell_type": "markdown",
   "metadata": {},
   "source": [
    "# 문제 3"
   ]
  },
  {
   "cell_type": "code",
   "execution_count": 1,
   "metadata": {},
   "outputs": [],
   "source": [
    "skills1 = [[50, 3], [100, 4], [200, 2], [600, 1]]; boss1 = 1024 #[4, 5]\n",
    "skills2 = [[100, 3], [70, 2], [200, 5]] ; boss2 = 1000000#[-1]\n",
    "skills3 = [[250, 100]]; boss3 = 1001#[1, 5]\n",
    "skills4 = [[100, 1], [200, 2], [600, 1]]"
   ]
  },
  {
   "cell_type": "code",
   "execution_count": 4,
   "metadata": {},
   "outputs": [],
   "source": [
    "\n",
    "skills = skills2\n",
    "boss = boss2"
   ]
  },
  {
   "cell_type": "code",
   "execution_count": 6,
   "metadata": {},
   "outputs": [
    {
     "name": "stdout",
     "output_type": "stream",
     "text": [
      "[-1]\n"
     ]
    }
   ],
   "source": [
    "import copy\n",
    "def check_available(skills, boss):\n",
    "    summation = 0\n",
    "    for idx in range(len(skills)):\n",
    "        summation += skills[idx][0] * skills[idx][1]\n",
    "    return False if summation < boss else True\n",
    "    \n",
    "# answer = None\n",
    "max_skill = 0\n",
    "min_fight = float('inf')\n",
    "def DFS(skill, boss, output, ori_skill):\n",
    "    global answer, max_skill, min_fight\n",
    "    \n",
    "    for idx, (hp, cnt) in enumerate(skill):\n",
    "        if boss <= 0 :\n",
    "#             print(boss, answer)\n",
    "            if max_skill <= output[0] :\n",
    "                max_skill = output[0]\n",
    "                if min_fight > output[1] :\n",
    "                    min_fight = output[1]\n",
    "                answer = [max_skill, min_fight]\n",
    "                return answer\n",
    "        \n",
    "        if skill[idx][1] > 0 :\n",
    "            _skill = copy.deepcopy(skill)\n",
    "            _output = copy.deepcopy(output)\n",
    "\n",
    "            if _skill[idx][1] == ori_skill[idx][1] :\n",
    "                _output[0] += 1\n",
    "                \n",
    "            _skill[idx][1] -= 1\n",
    "            _output[1] += 1\n",
    "            result = DFS(_skill, boss - _skill[idx][0], _output, ori_skill)\n",
    "    return result\n",
    "\n",
    "def solution(skills, boss):\n",
    "    answer= -1\n",
    "    output = [0,0]\n",
    "    if (check_available(skills,boss)):\n",
    "        answer = DFS(skills, boss, output, copy.deepcopy(skills))\n",
    "    else:\n",
    "        answer = [-1]\n",
    "    return answer\n",
    "\n",
    "\n",
    "print(solution(skills, boss))"
   ]
  },
  {
   "cell_type": "code",
   "execution_count": null,
   "metadata": {},
   "outputs": [],
   "source": []
  },
  {
   "cell_type": "code",
   "execution_count": null,
   "metadata": {},
   "outputs": [],
   "source": []
  },
  {
   "cell_type": "code",
   "execution_count": 487,
   "metadata": {
    "scrolled": true
   },
   "outputs": [],
   "source": [
    "def check_available(skills, boss):\n",
    "    summation = 0\n",
    "    for idx in range(len(skills)):\n",
    "        summation += skills[idx][0] * skills[idx][1]\n",
    "    return False if summation < boss else True\n",
    "answer = None\n",
    "def DFS(skill, boss, output):\n",
    "    global answer\n",
    "    for idx, (hp, cnt) in enumerate(skill):\n",
    "        if boss <= 0 :\n",
    "            if (not answer or output[1] < answer[1]) : \n",
    "                answer = copy.deepcopy(output)\n",
    "                print(answer)\n",
    "            return answer\n",
    "        \n",
    "        if skill[idx][1] > 0 :\n",
    "            _skill = copy.deepcopy(skill)\n",
    "            _output = copy.deepcopy(output)\n",
    "\n",
    "            if _skill[idx][1] == skills[idx][1] :\n",
    "                _output[0] += 1\n",
    "                \n",
    "            _skill[idx][1] -= 1\n",
    "            _output[1] += 1\n",
    "            temp.append(idx)\n",
    "            result = DFS(_skill, boss - _skill[idx][0], _output)\n",
    "            \n",
    "def solution(skills, boss):\n",
    "    if (check_available(skills,boss)):\n",
    "        print(skills, boss)\n",
    "        answer = DFS(skills, boss, output)\n",
    "    else:\n",
    "        answer = -1\n",
    "    return answer\n",
    "\n",
    "\n"
   ]
  },
  {
   "cell_type": "code",
   "execution_count": 490,
   "metadata": {},
   "outputs": [
    {
     "data": {
      "text/plain": [
       "[0, 0]"
      ]
     },
     "execution_count": 490,
     "metadata": {},
     "output_type": "execute_result"
    }
   ],
   "source": [
    "output"
   ]
  },
  {
   "cell_type": "code",
   "execution_count": 488,
   "metadata": {},
   "outputs": [
    {
     "name": "stdout",
     "output_type": "stream",
     "text": [
      "[[50, 3], [100, 4], [200, 2], [600, 1]] 1024\n",
      "[4, 10]\n",
      "[4, 9]\n",
      "[3, 8]\n",
      "[3, 7]\n",
      "[4, 6]\n",
      "[3, 5]\n",
      "[3, 4]\n",
      "None\n"
     ]
    }
   ],
   "source": [
    "print(solution(skills, boss))"
   ]
  },
  {
   "cell_type": "code",
   "execution_count": null,
   "metadata": {},
   "outputs": [],
   "source": []
  },
  {
   "cell_type": "code",
   "execution_count": null,
   "metadata": {},
   "outputs": [],
   "source": []
  },
  {
   "cell_type": "code",
   "execution_count": 273,
   "metadata": {},
   "outputs": [
    {
     "name": "stdout",
     "output_type": "stream",
     "text": [
      "751 [1, 1] 1001\n",
      "501 [1, 2] 751\n",
      "251 [1, 3] 501\n",
      "1 [1, 4] 251\n",
      "-249 [1, 5] 1\n",
      "output?  [1, 5]\n"
     ]
    }
   ],
   "source": [
    "def DFS(skill, boss, output):\n",
    "    for idx, (hp, cnt) in enumerate(skill):\n",
    "        if boss <= 0 :\n",
    "            return output\n",
    "        swit = False\n",
    "\n",
    "        if skill[idx][1] > 1 :\n",
    "            _skill = copy.deepcopy(skill)\n",
    "            _output = copy.deepcopy(output)\n",
    "            if _skill[idx][1] == skills3[idx][1] :\n",
    "                swit = True\n",
    "                _output[0] += 1\n",
    "\n",
    "            _skill[idx][1] -= 1\n",
    "            _output[1] += 1\n",
    "            print( boss - _skill[idx][0], _output, boss)\n",
    "            output = DFS(_skill, boss - _skill[idx][0], _output)\n",
    "            if output : print('output? ', output)\n",
    "        #             print(output)\n",
    "DFS(skills3, boss, output)"
   ]
  },
  {
   "cell_type": "code",
   "execution_count": 338,
   "metadata": {},
   "outputs": [],
   "source": []
  },
  {
   "cell_type": "code",
   "execution_count": 251,
   "metadata": {},
   "outputs": [
    {
     "ename": "NameError",
     "evalue": "name '_skill' is not defined",
     "output_type": "error",
     "traceback": [
      "\u001b[1;31m---------------------------------------------------------------------------\u001b[0m",
      "\u001b[1;31mNameError\u001b[0m                                 Traceback (most recent call last)",
      "\u001b[1;32m<ipython-input-251-d910feb8210e>\u001b[0m in \u001b[0;36m<module>\u001b[1;34m\u001b[0m\n\u001b[0;32m      5\u001b[0m         \u001b[1;32mbreak\u001b[0m\u001b[1;33m\u001b[0m\u001b[1;33m\u001b[0m\u001b[0m\n\u001b[0;32m      6\u001b[0m     \u001b[0mswit\u001b[0m \u001b[1;33m=\u001b[0m \u001b[1;32mFalse\u001b[0m\u001b[1;33m\u001b[0m\u001b[1;33m\u001b[0m\u001b[0m\n\u001b[1;32m----> 7\u001b[1;33m     \u001b[1;32mif\u001b[0m \u001b[0m_skill\u001b[0m\u001b[1;33m[\u001b[0m\u001b[0midx\u001b[0m\u001b[1;33m]\u001b[0m\u001b[1;33m[\u001b[0m\u001b[1;36m1\u001b[0m\u001b[1;33m]\u001b[0m \u001b[1;33m>\u001b[0m \u001b[1;36m1\u001b[0m \u001b[1;33m:\u001b[0m\u001b[1;33m\u001b[0m\u001b[1;33m\u001b[0m\u001b[0m\n\u001b[0m\u001b[0;32m      8\u001b[0m         \u001b[1;32mif\u001b[0m \u001b[0m_skill\u001b[0m\u001b[1;33m[\u001b[0m\u001b[0midx\u001b[0m\u001b[1;33m]\u001b[0m\u001b[1;33m[\u001b[0m\u001b[1;36m1\u001b[0m\u001b[1;33m]\u001b[0m \u001b[1;33m==\u001b[0m \u001b[0mskills3\u001b[0m\u001b[1;33m[\u001b[0m\u001b[0midx\u001b[0m\u001b[1;33m]\u001b[0m\u001b[1;33m[\u001b[0m\u001b[1;36m1\u001b[0m\u001b[1;33m]\u001b[0m \u001b[1;33m:\u001b[0m\u001b[1;33m\u001b[0m\u001b[1;33m\u001b[0m\u001b[0m\n\u001b[0;32m      9\u001b[0m             \u001b[0mswit\u001b[0m \u001b[1;33m=\u001b[0m \u001b[1;32mTrue\u001b[0m\u001b[1;33m\u001b[0m\u001b[1;33m\u001b[0m\u001b[0m\n",
      "\u001b[1;31mNameError\u001b[0m: name '_skill' is not defined"
     ]
    }
   ],
   "source": [
    "_boss = boss\n",
    "output = [0,0] #종류수, 사용횟수\n",
    "for idx, (hp, cnt) in enumerate(skills3):\n",
    "    if _boss <= 0 :\n",
    "        break\n",
    "    swit = False\n",
    "    if _skill[idx][1] > 1 :\n",
    "        if _skill[idx][1] == skills3[idx][1] :\n",
    "            swit = True\n",
    "            _output[0] += 1\n",
    "        _skill = copy.deepcopy(skills3)\n",
    "        _output = copy.deepcopy(output)\n",
    "        \n",
    "        _skill[idx][1] -= 1\n",
    "        _output[1] += 1\n",
    "        DFS(_skill, _boss - _skill[idx][0], _output)\n"
   ]
  },
  {
   "cell_type": "code",
   "execution_count": null,
   "metadata": {},
   "outputs": [],
   "source": []
  }
 ],
 "metadata": {
  "kernelspec": {
   "display_name": "Python 3",
   "language": "python",
   "name": "python3"
  },
  "language_info": {
   "codemirror_mode": {
    "name": "ipython",
    "version": 3
   },
   "file_extension": ".py",
   "mimetype": "text/x-python",
   "name": "python",
   "nbconvert_exporter": "python",
   "pygments_lexer": "ipython3",
   "version": "3.7.6"
  }
 },
 "nbformat": 4,
 "nbformat_minor": 4
}
